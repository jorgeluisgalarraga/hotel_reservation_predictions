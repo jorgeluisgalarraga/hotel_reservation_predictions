{
 "cells": [
  {
   "cell_type": "code",
   "execution_count": 2,
   "metadata": {
    "_cell_guid": "b1076dfc-b9ad-4769-8c92-a6c4dae69d19",
    "_uuid": "8f2839f25d086af736a60e9eeb907d3b93b6e0e5",
    "execution": {
     "iopub.execute_input": "2023-01-31T20:01:56.486829Z",
     "iopub.status.busy": "2023-01-31T20:01:56.486467Z",
     "iopub.status.idle": "2023-01-31T20:01:56.494514Z",
     "shell.execute_reply": "2023-01-31T20:01:56.493389Z",
     "shell.execute_reply.started": "2023-01-31T20:01:56.486791Z"
    }
   },
   "outputs": [
    {
     "name": "stdout",
     "output_type": "stream",
     "text": [
      "/kaggle/input/hotel-reservations-classification-dataset/Hotel Reservations.csv\n"
     ]
    }
   ],
   "source": [
    "# This Python 3 environment comes with many helpful analytics libraries installed\n",
    "# It is defined by the kaggle/python Docker image: https://github.com/kaggle/docker-python\n",
    "# For example, here's several helpful packages to load\n",
    "\n",
    "import numpy as np # linear algebra\n",
    "import pandas as pd # data processing, CSV file I/O (e.g. pd.read_csv)\n",
    "\n",
    "# Input data files are available in the read-only \"../input/\" directory\n",
    "# For example, running this (by clicking run or pressing Shift+Enter) will list all files under the input directory\n",
    "\n",
    "import os\n",
    "for dirname, _, filenames in os.walk('/kaggle/input'):\n",
    "    for filename in filenames:\n",
    "        print(os.path.join(dirname, filename))\n",
    "\n",
    "# You can write up to 20GB to the current directory (/kaggle/working/) that gets preserved as output when you create a version using \"Save & Run All\" \n",
    "# You can also write temporary files to /kaggle/temp/, but they won't be saved outside of the current session"
   ]
  },
  {
   "cell_type": "code",
   "execution_count": 3,
   "metadata": {
    "execution": {
     "iopub.execute_input": "2023-01-31T20:01:59.920329Z",
     "iopub.status.busy": "2023-01-31T20:01:59.919941Z",
     "iopub.status.idle": "2023-01-31T20:02:00.102600Z",
     "shell.execute_reply": "2023-01-31T20:02:00.101245Z",
     "shell.execute_reply.started": "2023-01-31T20:01:59.920298Z"
    }
   },
   "outputs": [],
   "source": [
    "res = pd.read_csv('/kaggle/input/hotel-reservations-classification-dataset/Hotel Reservations.csv', parse_dates=['arrival_date'])"
   ]
  },
  {
   "cell_type": "code",
   "execution_count": 3,
   "metadata": {
    "execution": {
     "iopub.execute_input": "2023-01-31T13:52:55.683166Z",
     "iopub.status.busy": "2023-01-31T13:52:55.682758Z",
     "iopub.status.idle": "2023-01-31T13:52:55.710568Z",
     "shell.execute_reply": "2023-01-31T13:52:55.709209Z",
     "shell.execute_reply.started": "2023-01-31T13:52:55.683132Z"
    }
   },
   "outputs": [
    {
     "data": {
      "text/html": [
       "<div>\n",
       "<style scoped>\n",
       "    .dataframe tbody tr th:only-of-type {\n",
       "        vertical-align: middle;\n",
       "    }\n",
       "\n",
       "    .dataframe tbody tr th {\n",
       "        vertical-align: top;\n",
       "    }\n",
       "\n",
       "    .dataframe thead th {\n",
       "        text-align: right;\n",
       "    }\n",
       "</style>\n",
       "<table border=\"1\" class=\"dataframe\">\n",
       "  <thead>\n",
       "    <tr style=\"text-align: right;\">\n",
       "      <th></th>\n",
       "      <th>Booking_ID</th>\n",
       "      <th>no_of_adults</th>\n",
       "      <th>no_of_children</th>\n",
       "      <th>no_of_weekend_nights</th>\n",
       "      <th>no_of_week_nights</th>\n",
       "      <th>type_of_meal_plan</th>\n",
       "      <th>required_car_parking_space</th>\n",
       "      <th>room_type_reserved</th>\n",
       "      <th>lead_time</th>\n",
       "      <th>arrival_year</th>\n",
       "      <th>arrival_month</th>\n",
       "      <th>arrival_date</th>\n",
       "      <th>market_segment_type</th>\n",
       "      <th>repeated_guest</th>\n",
       "      <th>no_of_previous_cancellations</th>\n",
       "      <th>no_of_previous_bookings_not_canceled</th>\n",
       "      <th>avg_price_per_room</th>\n",
       "      <th>no_of_special_requests</th>\n",
       "      <th>booking_status</th>\n",
       "    </tr>\n",
       "  </thead>\n",
       "  <tbody>\n",
       "    <tr>\n",
       "      <th>0</th>\n",
       "      <td>INN00001</td>\n",
       "      <td>2</td>\n",
       "      <td>0</td>\n",
       "      <td>1</td>\n",
       "      <td>2</td>\n",
       "      <td>Meal Plan 1</td>\n",
       "      <td>0</td>\n",
       "      <td>Room_Type 1</td>\n",
       "      <td>224</td>\n",
       "      <td>2017</td>\n",
       "      <td>10</td>\n",
       "      <td>2</td>\n",
       "      <td>Offline</td>\n",
       "      <td>0</td>\n",
       "      <td>0</td>\n",
       "      <td>0</td>\n",
       "      <td>65.00</td>\n",
       "      <td>0</td>\n",
       "      <td>Not_Canceled</td>\n",
       "    </tr>\n",
       "    <tr>\n",
       "      <th>1</th>\n",
       "      <td>INN00002</td>\n",
       "      <td>2</td>\n",
       "      <td>0</td>\n",
       "      <td>2</td>\n",
       "      <td>3</td>\n",
       "      <td>Not Selected</td>\n",
       "      <td>0</td>\n",
       "      <td>Room_Type 1</td>\n",
       "      <td>5</td>\n",
       "      <td>2018</td>\n",
       "      <td>11</td>\n",
       "      <td>6</td>\n",
       "      <td>Online</td>\n",
       "      <td>0</td>\n",
       "      <td>0</td>\n",
       "      <td>0</td>\n",
       "      <td>106.68</td>\n",
       "      <td>1</td>\n",
       "      <td>Not_Canceled</td>\n",
       "    </tr>\n",
       "    <tr>\n",
       "      <th>2</th>\n",
       "      <td>INN00003</td>\n",
       "      <td>1</td>\n",
       "      <td>0</td>\n",
       "      <td>2</td>\n",
       "      <td>1</td>\n",
       "      <td>Meal Plan 1</td>\n",
       "      <td>0</td>\n",
       "      <td>Room_Type 1</td>\n",
       "      <td>1</td>\n",
       "      <td>2018</td>\n",
       "      <td>2</td>\n",
       "      <td>28</td>\n",
       "      <td>Online</td>\n",
       "      <td>0</td>\n",
       "      <td>0</td>\n",
       "      <td>0</td>\n",
       "      <td>60.00</td>\n",
       "      <td>0</td>\n",
       "      <td>Canceled</td>\n",
       "    </tr>\n",
       "    <tr>\n",
       "      <th>3</th>\n",
       "      <td>INN00004</td>\n",
       "      <td>2</td>\n",
       "      <td>0</td>\n",
       "      <td>0</td>\n",
       "      <td>2</td>\n",
       "      <td>Meal Plan 1</td>\n",
       "      <td>0</td>\n",
       "      <td>Room_Type 1</td>\n",
       "      <td>211</td>\n",
       "      <td>2018</td>\n",
       "      <td>5</td>\n",
       "      <td>20</td>\n",
       "      <td>Online</td>\n",
       "      <td>0</td>\n",
       "      <td>0</td>\n",
       "      <td>0</td>\n",
       "      <td>100.00</td>\n",
       "      <td>0</td>\n",
       "      <td>Canceled</td>\n",
       "    </tr>\n",
       "    <tr>\n",
       "      <th>4</th>\n",
       "      <td>INN00005</td>\n",
       "      <td>2</td>\n",
       "      <td>0</td>\n",
       "      <td>1</td>\n",
       "      <td>1</td>\n",
       "      <td>Not Selected</td>\n",
       "      <td>0</td>\n",
       "      <td>Room_Type 1</td>\n",
       "      <td>48</td>\n",
       "      <td>2018</td>\n",
       "      <td>4</td>\n",
       "      <td>11</td>\n",
       "      <td>Online</td>\n",
       "      <td>0</td>\n",
       "      <td>0</td>\n",
       "      <td>0</td>\n",
       "      <td>94.50</td>\n",
       "      <td>0</td>\n",
       "      <td>Canceled</td>\n",
       "    </tr>\n",
       "  </tbody>\n",
       "</table>\n",
       "</div>"
      ],
      "text/plain": [
       "  Booking_ID  no_of_adults  no_of_children  no_of_weekend_nights  \\\n",
       "0   INN00001             2               0                     1   \n",
       "1   INN00002             2               0                     2   \n",
       "2   INN00003             1               0                     2   \n",
       "3   INN00004             2               0                     0   \n",
       "4   INN00005             2               0                     1   \n",
       "\n",
       "   no_of_week_nights type_of_meal_plan  required_car_parking_space  \\\n",
       "0                  2       Meal Plan 1                           0   \n",
       "1                  3      Not Selected                           0   \n",
       "2                  1       Meal Plan 1                           0   \n",
       "3                  2       Meal Plan 1                           0   \n",
       "4                  1      Not Selected                           0   \n",
       "\n",
       "  room_type_reserved  lead_time  arrival_year  arrival_month arrival_date  \\\n",
       "0        Room_Type 1        224          2017             10            2   \n",
       "1        Room_Type 1          5          2018             11            6   \n",
       "2        Room_Type 1          1          2018              2           28   \n",
       "3        Room_Type 1        211          2018              5           20   \n",
       "4        Room_Type 1         48          2018              4           11   \n",
       "\n",
       "  market_segment_type  repeated_guest  no_of_previous_cancellations  \\\n",
       "0             Offline               0                             0   \n",
       "1              Online               0                             0   \n",
       "2              Online               0                             0   \n",
       "3              Online               0                             0   \n",
       "4              Online               0                             0   \n",
       "\n",
       "   no_of_previous_bookings_not_canceled  avg_price_per_room  \\\n",
       "0                                     0               65.00   \n",
       "1                                     0              106.68   \n",
       "2                                     0               60.00   \n",
       "3                                     0              100.00   \n",
       "4                                     0               94.50   \n",
       "\n",
       "   no_of_special_requests booking_status  \n",
       "0                       0   Not_Canceled  \n",
       "1                       1   Not_Canceled  \n",
       "2                       0       Canceled  \n",
       "3                       0       Canceled  \n",
       "4                       0       Canceled  "
      ]
     },
     "execution_count": 3,
     "metadata": {},
     "output_type": "execute_result"
    }
   ],
   "source": [
    "res.head()"
   ]
  },
  {
   "cell_type": "code",
   "execution_count": 4,
   "metadata": {
    "execution": {
     "iopub.execute_input": "2023-01-31T13:52:58.461576Z",
     "iopub.status.busy": "2023-01-31T13:52:58.461146Z",
     "iopub.status.idle": "2023-01-31T13:52:58.493033Z",
     "shell.execute_reply": "2023-01-31T13:52:58.491889Z",
     "shell.execute_reply.started": "2023-01-31T13:52:58.461543Z"
    }
   },
   "outputs": [
    {
     "name": "stdout",
     "output_type": "stream",
     "text": [
      "<class 'pandas.core.frame.DataFrame'>\n",
      "RangeIndex: 36275 entries, 0 to 36274\n",
      "Data columns (total 19 columns):\n",
      " #   Column                                Non-Null Count  Dtype  \n",
      "---  ------                                --------------  -----  \n",
      " 0   Booking_ID                            36275 non-null  object \n",
      " 1   no_of_adults                          36275 non-null  int64  \n",
      " 2   no_of_children                        36275 non-null  int64  \n",
      " 3   no_of_weekend_nights                  36275 non-null  int64  \n",
      " 4   no_of_week_nights                     36275 non-null  int64  \n",
      " 5   type_of_meal_plan                     36275 non-null  object \n",
      " 6   required_car_parking_space            36275 non-null  int64  \n",
      " 7   room_type_reserved                    36275 non-null  object \n",
      " 8   lead_time                             36275 non-null  int64  \n",
      " 9   arrival_year                          36275 non-null  int64  \n",
      " 10  arrival_month                         36275 non-null  int64  \n",
      " 11  arrival_date                          36275 non-null  object \n",
      " 12  market_segment_type                   36275 non-null  object \n",
      " 13  repeated_guest                        36275 non-null  int64  \n",
      " 14  no_of_previous_cancellations          36275 non-null  int64  \n",
      " 15  no_of_previous_bookings_not_canceled  36275 non-null  int64  \n",
      " 16  avg_price_per_room                    36275 non-null  float64\n",
      " 17  no_of_special_requests                36275 non-null  int64  \n",
      " 18  booking_status                        36275 non-null  object \n",
      "dtypes: float64(1), int64(12), object(6)\n",
      "memory usage: 5.3+ MB\n"
     ]
    }
   ],
   "source": [
    "res.info()"
   ]
  },
  {
   "cell_type": "code",
   "execution_count": 5,
   "metadata": {
    "execution": {
     "iopub.execute_input": "2023-01-31T13:53:02.297749Z",
     "iopub.status.busy": "2023-01-31T13:53:02.297309Z",
     "iopub.status.idle": "2023-01-31T13:53:02.316373Z",
     "shell.execute_reply": "2023-01-31T13:53:02.315596Z",
     "shell.execute_reply.started": "2023-01-31T13:53:02.297715Z"
    }
   },
   "outputs": [
    {
     "data": {
      "text/plain": [
       "Booking_ID                              0\n",
       "no_of_adults                            0\n",
       "no_of_children                          0\n",
       "no_of_weekend_nights                    0\n",
       "no_of_week_nights                       0\n",
       "type_of_meal_plan                       0\n",
       "required_car_parking_space              0\n",
       "room_type_reserved                      0\n",
       "lead_time                               0\n",
       "arrival_year                            0\n",
       "arrival_month                           0\n",
       "arrival_date                            0\n",
       "market_segment_type                     0\n",
       "repeated_guest                          0\n",
       "no_of_previous_cancellations            0\n",
       "no_of_previous_bookings_not_canceled    0\n",
       "avg_price_per_room                      0\n",
       "no_of_special_requests                  0\n",
       "booking_status                          0\n",
       "dtype: int64"
      ]
     },
     "execution_count": 5,
     "metadata": {},
     "output_type": "execute_result"
    }
   ],
   "source": [
    "res.isna().sum()"
   ]
  },
  {
   "cell_type": "code",
   "execution_count": 116,
   "metadata": {
    "execution": {
     "iopub.execute_input": "2023-01-31T19:50:54.758593Z",
     "iopub.status.busy": "2023-01-31T19:50:54.758171Z",
     "iopub.status.idle": "2023-01-31T19:50:54.771616Z",
     "shell.execute_reply": "2023-01-31T19:50:54.770361Z",
     "shell.execute_reply.started": "2023-01-31T19:50:54.758555Z"
    }
   },
   "outputs": [
    {
     "data": {
      "text/plain": [
       "Not_Canceled    67.2%\n",
       "Canceled        32.8%\n",
       "Name: booking_status, dtype: object"
      ]
     },
     "execution_count": 116,
     "metadata": {},
     "output_type": "execute_result"
    }
   ],
   "source": [
    "res['booking_status'].value_counts(normalize=True).mul(100).round(1).astype(str) + '%'"
   ]
  },
  {
   "cell_type": "code",
   "execution_count": 4,
   "metadata": {
    "execution": {
     "iopub.execute_input": "2023-01-31T20:02:06.153577Z",
     "iopub.status.busy": "2023-01-31T20:02:06.153150Z",
     "iopub.status.idle": "2023-01-31T20:02:06.326015Z",
     "shell.execute_reply": "2023-01-31T20:02:06.325030Z",
     "shell.execute_reply.started": "2023-01-31T20:02:06.153547Z"
    }
   },
   "outputs": [],
   "source": [
    "res.columns = res.columns.str.lower().str.replace(' ', '_')\n",
    "\n",
    "categorical_columns = list(res.dtypes[res.dtypes == 'object'].index)\n",
    "\n",
    "for c in categorical_columns:\n",
    "    res[c] = res[c].str.lower().str.replace(' ', '_')"
   ]
  },
  {
   "cell_type": "code",
   "execution_count": 10,
   "metadata": {
    "execution": {
     "iopub.execute_input": "2023-01-31T05:17:57.582755Z",
     "iopub.status.busy": "2023-01-31T05:17:57.582274Z",
     "iopub.status.idle": "2023-01-31T05:17:57.603217Z",
     "shell.execute_reply": "2023-01-31T05:17:57.602003Z",
     "shell.execute_reply.started": "2023-01-31T05:17:57.582714Z"
    }
   },
   "outputs": [
    {
     "data": {
      "text/html": [
       "<div>\n",
       "<style scoped>\n",
       "    .dataframe tbody tr th:only-of-type {\n",
       "        vertical-align: middle;\n",
       "    }\n",
       "\n",
       "    .dataframe tbody tr th {\n",
       "        vertical-align: top;\n",
       "    }\n",
       "\n",
       "    .dataframe thead th {\n",
       "        text-align: right;\n",
       "    }\n",
       "</style>\n",
       "<table border=\"1\" class=\"dataframe\">\n",
       "  <thead>\n",
       "    <tr style=\"text-align: right;\">\n",
       "      <th></th>\n",
       "      <th>booking_id</th>\n",
       "      <th>no_of_adults</th>\n",
       "      <th>no_of_children</th>\n",
       "      <th>no_of_weekend_nights</th>\n",
       "      <th>no_of_week_nights</th>\n",
       "      <th>type_of_meal_plan</th>\n",
       "      <th>required_car_parking_space</th>\n",
       "      <th>room_type_reserved</th>\n",
       "      <th>lead_time</th>\n",
       "      <th>arrival_year</th>\n",
       "      <th>arrival_month</th>\n",
       "      <th>arrival_date</th>\n",
       "      <th>market_segment_type</th>\n",
       "      <th>repeated_guest</th>\n",
       "      <th>no_of_previous_cancellations</th>\n",
       "      <th>no_of_previous_bookings_not_canceled</th>\n",
       "      <th>avg_price_per_room</th>\n",
       "      <th>no_of_special_requests</th>\n",
       "      <th>booking_status</th>\n",
       "    </tr>\n",
       "  </thead>\n",
       "  <tbody>\n",
       "    <tr>\n",
       "      <th>0</th>\n",
       "      <td>inn00001</td>\n",
       "      <td>2</td>\n",
       "      <td>0</td>\n",
       "      <td>1</td>\n",
       "      <td>2</td>\n",
       "      <td>meal_plan_1</td>\n",
       "      <td>0</td>\n",
       "      <td>room_type_1</td>\n",
       "      <td>224</td>\n",
       "      <td>2017</td>\n",
       "      <td>10</td>\n",
       "      <td>2</td>\n",
       "      <td>offline</td>\n",
       "      <td>0</td>\n",
       "      <td>0</td>\n",
       "      <td>0</td>\n",
       "      <td>65.00</td>\n",
       "      <td>0</td>\n",
       "      <td>not_canceled</td>\n",
       "    </tr>\n",
       "    <tr>\n",
       "      <th>1</th>\n",
       "      <td>inn00002</td>\n",
       "      <td>2</td>\n",
       "      <td>0</td>\n",
       "      <td>2</td>\n",
       "      <td>3</td>\n",
       "      <td>not_selected</td>\n",
       "      <td>0</td>\n",
       "      <td>room_type_1</td>\n",
       "      <td>5</td>\n",
       "      <td>2018</td>\n",
       "      <td>11</td>\n",
       "      <td>6</td>\n",
       "      <td>online</td>\n",
       "      <td>0</td>\n",
       "      <td>0</td>\n",
       "      <td>0</td>\n",
       "      <td>106.68</td>\n",
       "      <td>1</td>\n",
       "      <td>not_canceled</td>\n",
       "    </tr>\n",
       "    <tr>\n",
       "      <th>2</th>\n",
       "      <td>inn00003</td>\n",
       "      <td>1</td>\n",
       "      <td>0</td>\n",
       "      <td>2</td>\n",
       "      <td>1</td>\n",
       "      <td>meal_plan_1</td>\n",
       "      <td>0</td>\n",
       "      <td>room_type_1</td>\n",
       "      <td>1</td>\n",
       "      <td>2018</td>\n",
       "      <td>2</td>\n",
       "      <td>28</td>\n",
       "      <td>online</td>\n",
       "      <td>0</td>\n",
       "      <td>0</td>\n",
       "      <td>0</td>\n",
       "      <td>60.00</td>\n",
       "      <td>0</td>\n",
       "      <td>canceled</td>\n",
       "    </tr>\n",
       "    <tr>\n",
       "      <th>3</th>\n",
       "      <td>inn00004</td>\n",
       "      <td>2</td>\n",
       "      <td>0</td>\n",
       "      <td>0</td>\n",
       "      <td>2</td>\n",
       "      <td>meal_plan_1</td>\n",
       "      <td>0</td>\n",
       "      <td>room_type_1</td>\n",
       "      <td>211</td>\n",
       "      <td>2018</td>\n",
       "      <td>5</td>\n",
       "      <td>20</td>\n",
       "      <td>online</td>\n",
       "      <td>0</td>\n",
       "      <td>0</td>\n",
       "      <td>0</td>\n",
       "      <td>100.00</td>\n",
       "      <td>0</td>\n",
       "      <td>canceled</td>\n",
       "    </tr>\n",
       "    <tr>\n",
       "      <th>4</th>\n",
       "      <td>inn00005</td>\n",
       "      <td>2</td>\n",
       "      <td>0</td>\n",
       "      <td>1</td>\n",
       "      <td>1</td>\n",
       "      <td>not_selected</td>\n",
       "      <td>0</td>\n",
       "      <td>room_type_1</td>\n",
       "      <td>48</td>\n",
       "      <td>2018</td>\n",
       "      <td>4</td>\n",
       "      <td>11</td>\n",
       "      <td>online</td>\n",
       "      <td>0</td>\n",
       "      <td>0</td>\n",
       "      <td>0</td>\n",
       "      <td>94.50</td>\n",
       "      <td>0</td>\n",
       "      <td>canceled</td>\n",
       "    </tr>\n",
       "  </tbody>\n",
       "</table>\n",
       "</div>"
      ],
      "text/plain": [
       "  booking_id  no_of_adults  no_of_children  no_of_weekend_nights  \\\n",
       "0   inn00001             2               0                     1   \n",
       "1   inn00002             2               0                     2   \n",
       "2   inn00003             1               0                     2   \n",
       "3   inn00004             2               0                     0   \n",
       "4   inn00005             2               0                     1   \n",
       "\n",
       "   no_of_week_nights type_of_meal_plan  required_car_parking_space  \\\n",
       "0                  2       meal_plan_1                           0   \n",
       "1                  3      not_selected                           0   \n",
       "2                  1       meal_plan_1                           0   \n",
       "3                  2       meal_plan_1                           0   \n",
       "4                  1      not_selected                           0   \n",
       "\n",
       "  room_type_reserved  lead_time  arrival_year  arrival_month arrival_date  \\\n",
       "0        room_type_1        224          2017             10            2   \n",
       "1        room_type_1          5          2018             11            6   \n",
       "2        room_type_1          1          2018              2           28   \n",
       "3        room_type_1        211          2018              5           20   \n",
       "4        room_type_1         48          2018              4           11   \n",
       "\n",
       "  market_segment_type  repeated_guest  no_of_previous_cancellations  \\\n",
       "0             offline               0                             0   \n",
       "1              online               0                             0   \n",
       "2              online               0                             0   \n",
       "3              online               0                             0   \n",
       "4              online               0                             0   \n",
       "\n",
       "   no_of_previous_bookings_not_canceled  avg_price_per_room  \\\n",
       "0                                     0               65.00   \n",
       "1                                     0              106.68   \n",
       "2                                     0               60.00   \n",
       "3                                     0              100.00   \n",
       "4                                     0               94.50   \n",
       "\n",
       "   no_of_special_requests booking_status  \n",
       "0                       0   not_canceled  \n",
       "1                       1   not_canceled  \n",
       "2                       0       canceled  \n",
       "3                       0       canceled  \n",
       "4                       0       canceled  "
      ]
     },
     "execution_count": 10,
     "metadata": {},
     "output_type": "execute_result"
    }
   ],
   "source": [
    "res.head()"
   ]
  },
  {
   "cell_type": "code",
   "execution_count": 5,
   "metadata": {
    "execution": {
     "iopub.execute_input": "2023-01-31T20:02:09.643421Z",
     "iopub.status.busy": "2023-01-31T20:02:09.643033Z",
     "iopub.status.idle": "2023-01-31T20:02:09.654133Z",
     "shell.execute_reply": "2023-01-31T20:02:09.652935Z",
     "shell.execute_reply.started": "2023-01-31T20:02:09.643389Z"
    }
   },
   "outputs": [],
   "source": [
    "res['booking_status'] = (res['booking_status'] == 'canceled').astype(int)"
   ]
  },
  {
   "cell_type": "code",
   "execution_count": 9,
   "metadata": {
    "execution": {
     "iopub.execute_input": "2023-01-31T13:53:27.617329Z",
     "iopub.status.busy": "2023-01-31T13:53:27.616883Z",
     "iopub.status.idle": "2023-01-31T13:53:27.636986Z",
     "shell.execute_reply": "2023-01-31T13:53:27.635872Z",
     "shell.execute_reply.started": "2023-01-31T13:53:27.617293Z"
    }
   },
   "outputs": [
    {
     "data": {
      "text/html": [
       "<div>\n",
       "<style scoped>\n",
       "    .dataframe tbody tr th:only-of-type {\n",
       "        vertical-align: middle;\n",
       "    }\n",
       "\n",
       "    .dataframe tbody tr th {\n",
       "        vertical-align: top;\n",
       "    }\n",
       "\n",
       "    .dataframe thead th {\n",
       "        text-align: right;\n",
       "    }\n",
       "</style>\n",
       "<table border=\"1\" class=\"dataframe\">\n",
       "  <thead>\n",
       "    <tr style=\"text-align: right;\">\n",
       "      <th></th>\n",
       "      <th>booking_id</th>\n",
       "      <th>no_of_adults</th>\n",
       "      <th>no_of_children</th>\n",
       "      <th>no_of_weekend_nights</th>\n",
       "      <th>no_of_week_nights</th>\n",
       "      <th>type_of_meal_plan</th>\n",
       "      <th>required_car_parking_space</th>\n",
       "      <th>room_type_reserved</th>\n",
       "      <th>lead_time</th>\n",
       "      <th>arrival_year</th>\n",
       "      <th>arrival_month</th>\n",
       "      <th>arrival_date</th>\n",
       "      <th>market_segment_type</th>\n",
       "      <th>repeated_guest</th>\n",
       "      <th>no_of_previous_cancellations</th>\n",
       "      <th>no_of_previous_bookings_not_canceled</th>\n",
       "      <th>avg_price_per_room</th>\n",
       "      <th>no_of_special_requests</th>\n",
       "      <th>booking_status</th>\n",
       "    </tr>\n",
       "  </thead>\n",
       "  <tbody>\n",
       "    <tr>\n",
       "      <th>0</th>\n",
       "      <td>inn00001</td>\n",
       "      <td>2</td>\n",
       "      <td>0</td>\n",
       "      <td>1</td>\n",
       "      <td>2</td>\n",
       "      <td>meal_plan_1</td>\n",
       "      <td>0</td>\n",
       "      <td>room_type_1</td>\n",
       "      <td>224</td>\n",
       "      <td>2017</td>\n",
       "      <td>10</td>\n",
       "      <td>2</td>\n",
       "      <td>offline</td>\n",
       "      <td>0</td>\n",
       "      <td>0</td>\n",
       "      <td>0</td>\n",
       "      <td>65.00</td>\n",
       "      <td>0</td>\n",
       "      <td>0</td>\n",
       "    </tr>\n",
       "    <tr>\n",
       "      <th>1</th>\n",
       "      <td>inn00002</td>\n",
       "      <td>2</td>\n",
       "      <td>0</td>\n",
       "      <td>2</td>\n",
       "      <td>3</td>\n",
       "      <td>not_selected</td>\n",
       "      <td>0</td>\n",
       "      <td>room_type_1</td>\n",
       "      <td>5</td>\n",
       "      <td>2018</td>\n",
       "      <td>11</td>\n",
       "      <td>6</td>\n",
       "      <td>online</td>\n",
       "      <td>0</td>\n",
       "      <td>0</td>\n",
       "      <td>0</td>\n",
       "      <td>106.68</td>\n",
       "      <td>1</td>\n",
       "      <td>0</td>\n",
       "    </tr>\n",
       "    <tr>\n",
       "      <th>2</th>\n",
       "      <td>inn00003</td>\n",
       "      <td>1</td>\n",
       "      <td>0</td>\n",
       "      <td>2</td>\n",
       "      <td>1</td>\n",
       "      <td>meal_plan_1</td>\n",
       "      <td>0</td>\n",
       "      <td>room_type_1</td>\n",
       "      <td>1</td>\n",
       "      <td>2018</td>\n",
       "      <td>2</td>\n",
       "      <td>28</td>\n",
       "      <td>online</td>\n",
       "      <td>0</td>\n",
       "      <td>0</td>\n",
       "      <td>0</td>\n",
       "      <td>60.00</td>\n",
       "      <td>0</td>\n",
       "      <td>1</td>\n",
       "    </tr>\n",
       "    <tr>\n",
       "      <th>3</th>\n",
       "      <td>inn00004</td>\n",
       "      <td>2</td>\n",
       "      <td>0</td>\n",
       "      <td>0</td>\n",
       "      <td>2</td>\n",
       "      <td>meal_plan_1</td>\n",
       "      <td>0</td>\n",
       "      <td>room_type_1</td>\n",
       "      <td>211</td>\n",
       "      <td>2018</td>\n",
       "      <td>5</td>\n",
       "      <td>20</td>\n",
       "      <td>online</td>\n",
       "      <td>0</td>\n",
       "      <td>0</td>\n",
       "      <td>0</td>\n",
       "      <td>100.00</td>\n",
       "      <td>0</td>\n",
       "      <td>1</td>\n",
       "    </tr>\n",
       "    <tr>\n",
       "      <th>4</th>\n",
       "      <td>inn00005</td>\n",
       "      <td>2</td>\n",
       "      <td>0</td>\n",
       "      <td>1</td>\n",
       "      <td>1</td>\n",
       "      <td>not_selected</td>\n",
       "      <td>0</td>\n",
       "      <td>room_type_1</td>\n",
       "      <td>48</td>\n",
       "      <td>2018</td>\n",
       "      <td>4</td>\n",
       "      <td>11</td>\n",
       "      <td>online</td>\n",
       "      <td>0</td>\n",
       "      <td>0</td>\n",
       "      <td>0</td>\n",
       "      <td>94.50</td>\n",
       "      <td>0</td>\n",
       "      <td>1</td>\n",
       "    </tr>\n",
       "  </tbody>\n",
       "</table>\n",
       "</div>"
      ],
      "text/plain": [
       "  booking_id  no_of_adults  no_of_children  no_of_weekend_nights  \\\n",
       "0   inn00001             2               0                     1   \n",
       "1   inn00002             2               0                     2   \n",
       "2   inn00003             1               0                     2   \n",
       "3   inn00004             2               0                     0   \n",
       "4   inn00005             2               0                     1   \n",
       "\n",
       "   no_of_week_nights type_of_meal_plan  required_car_parking_space  \\\n",
       "0                  2       meal_plan_1                           0   \n",
       "1                  3      not_selected                           0   \n",
       "2                  1       meal_plan_1                           0   \n",
       "3                  2       meal_plan_1                           0   \n",
       "4                  1      not_selected                           0   \n",
       "\n",
       "  room_type_reserved  lead_time  arrival_year  arrival_month arrival_date  \\\n",
       "0        room_type_1        224          2017             10            2   \n",
       "1        room_type_1          5          2018             11            6   \n",
       "2        room_type_1          1          2018              2           28   \n",
       "3        room_type_1        211          2018              5           20   \n",
       "4        room_type_1         48          2018              4           11   \n",
       "\n",
       "  market_segment_type  repeated_guest  no_of_previous_cancellations  \\\n",
       "0             offline               0                             0   \n",
       "1              online               0                             0   \n",
       "2              online               0                             0   \n",
       "3              online               0                             0   \n",
       "4              online               0                             0   \n",
       "\n",
       "   no_of_previous_bookings_not_canceled  avg_price_per_room  \\\n",
       "0                                     0               65.00   \n",
       "1                                     0              106.68   \n",
       "2                                     0               60.00   \n",
       "3                                     0              100.00   \n",
       "4                                     0               94.50   \n",
       "\n",
       "   no_of_special_requests  booking_status  \n",
       "0                       0               0  \n",
       "1                       1               0  \n",
       "2                       0               1  \n",
       "3                       0               1  \n",
       "4                       0               1  "
      ]
     },
     "execution_count": 9,
     "metadata": {},
     "output_type": "execute_result"
    }
   ],
   "source": [
    "res.head()"
   ]
  },
  {
   "cell_type": "code",
   "execution_count": 119,
   "metadata": {
    "execution": {
     "iopub.execute_input": "2023-01-31T19:51:04.484463Z",
     "iopub.status.busy": "2023-01-31T19:51:04.484049Z",
     "iopub.status.idle": "2023-01-31T19:51:04.495273Z",
     "shell.execute_reply": "2023-01-31T19:51:04.494012Z",
     "shell.execute_reply.started": "2023-01-31T19:51:04.484430Z"
    }
   },
   "outputs": [
    {
     "data": {
      "text/plain": [
       "0    67.2%\n",
       "1    32.8%\n",
       "Name: booking_status, dtype: object"
      ]
     },
     "execution_count": 119,
     "metadata": {},
     "output_type": "execute_result"
    }
   ],
   "source": [
    "res['booking_status'].value_counts(normalize=True).mul(100).round(1).astype(str) + '%'"
   ]
  },
  {
   "cell_type": "code",
   "execution_count": 6,
   "metadata": {
    "execution": {
     "iopub.execute_input": "2023-01-31T20:02:15.500213Z",
     "iopub.status.busy": "2023-01-31T20:02:15.499791Z",
     "iopub.status.idle": "2023-01-31T20:02:15.528151Z",
     "shell.execute_reply": "2023-01-31T20:02:15.526586Z",
     "shell.execute_reply.started": "2023-01-31T20:02:15.500178Z"
    }
   },
   "outputs": [],
   "source": [
    "res['arrival_date'] = pd.to_numeric(res['arrival_date'], errors='coerce')"
   ]
  },
  {
   "cell_type": "code",
   "execution_count": 7,
   "metadata": {
    "execution": {
     "iopub.execute_input": "2023-01-31T20:02:25.478894Z",
     "iopub.status.busy": "2023-01-31T20:02:25.478448Z",
     "iopub.status.idle": "2023-01-31T20:02:25.484217Z",
     "shell.execute_reply": "2023-01-31T20:02:25.482929Z",
     "shell.execute_reply.started": "2023-01-31T20:02:25.478857Z"
    }
   },
   "outputs": [],
   "source": [
    "categorical= ['type_of_meal_plan','room_type_reserved','market_segment_type']"
   ]
  },
  {
   "cell_type": "code",
   "execution_count": 8,
   "metadata": {
    "execution": {
     "iopub.execute_input": "2023-01-31T20:02:29.637663Z",
     "iopub.status.busy": "2023-01-31T20:02:29.636660Z",
     "iopub.status.idle": "2023-01-31T20:02:29.642124Z",
     "shell.execute_reply": "2023-01-31T20:02:29.641275Z",
     "shell.execute_reply.started": "2023-01-31T20:02:29.637621Z"
    }
   },
   "outputs": [],
   "source": [
    "numerical = ['no_of_children',\n",
    " 'lead_time',\n",
    " 'required_car_parking_space',\n",
    " 'no_of_previous_cancellations',\n",
    " 'no_of_adults',\n",
    " 'no_of_weekend_nights',\n",
    " 'no_of_week_nights',\n",
    " 'no_of_special_requests',\n",
    " 'repeated_guest',\n",
    " 'avg_price_per_room',\n",
    "'booking_status']"
   ]
  },
  {
   "cell_type": "code",
   "execution_count": 9,
   "metadata": {
    "execution": {
     "iopub.execute_input": "2023-01-31T20:02:31.886390Z",
     "iopub.status.busy": "2023-01-31T20:02:31.885970Z",
     "iopub.status.idle": "2023-01-31T20:02:33.238620Z",
     "shell.execute_reply": "2023-01-31T20:02:33.237594Z",
     "shell.execute_reply.started": "2023-01-31T20:02:31.886357Z"
    }
   },
   "outputs": [],
   "source": [
    "from sklearn.model_selection import train_test_split"
   ]
  },
  {
   "cell_type": "code",
   "execution_count": 10,
   "metadata": {
    "execution": {
     "iopub.execute_input": "2023-01-31T20:02:34.768708Z",
     "iopub.status.busy": "2023-01-31T20:02:34.768245Z",
     "iopub.status.idle": "2023-01-31T20:02:34.813389Z",
     "shell.execute_reply": "2023-01-31T20:02:34.812047Z",
     "shell.execute_reply.started": "2023-01-31T20:02:34.768667Z"
    }
   },
   "outputs": [],
   "source": [
    "df_train, df_test = train_test_split(res, test_size=0.2, random_state=42,shuffle = True)"
   ]
  },
  {
   "cell_type": "code",
   "execution_count": 16,
   "metadata": {
    "execution": {
     "iopub.execute_input": "2023-01-31T13:53:48.952350Z",
     "iopub.status.busy": "2023-01-31T13:53:48.951934Z",
     "iopub.status.idle": "2023-01-31T13:53:48.960358Z",
     "shell.execute_reply": "2023-01-31T13:53:48.959094Z",
     "shell.execute_reply.started": "2023-01-31T13:53:48.952316Z"
    }
   },
   "outputs": [
    {
     "data": {
      "text/plain": [
       "(29020, 7255)"
      ]
     },
     "execution_count": 16,
     "metadata": {},
     "output_type": "execute_result"
    }
   ],
   "source": [
    "len(df_train),len(df_test)"
   ]
  },
  {
   "cell_type": "code",
   "execution_count": 17,
   "metadata": {
    "execution": {
     "iopub.execute_input": "2023-01-31T13:53:51.505886Z",
     "iopub.status.busy": "2023-01-31T13:53:51.504661Z",
     "iopub.status.idle": "2023-01-31T13:53:51.512903Z",
     "shell.execute_reply": "2023-01-31T13:53:51.511839Z",
     "shell.execute_reply.started": "2023-01-31T13:53:51.505845Z"
    }
   },
   "outputs": [
    {
     "data": {
      "text/plain": [
       "0.3262922122674018"
      ]
     },
     "execution_count": 17,
     "metadata": {},
     "output_type": "execute_result"
    }
   ],
   "source": [
    "global_churn = df_train.booking_status.mean()\n",
    "global_churn"
   ]
  },
  {
   "cell_type": "code",
   "execution_count": 11,
   "metadata": {
    "execution": {
     "iopub.execute_input": "2023-01-31T20:02:38.041256Z",
     "iopub.status.busy": "2023-01-31T20:02:38.040847Z",
     "iopub.status.idle": "2023-01-31T20:02:38.060484Z",
     "shell.execute_reply": "2023-01-31T20:02:38.059168Z",
     "shell.execute_reply.started": "2023-01-31T20:02:38.041224Z"
    }
   },
   "outputs": [],
   "source": [
    "df_train = df_train.reset_index(drop=True)\n",
    "df_test = df_test.reset_index(drop=True)"
   ]
  },
  {
   "cell_type": "code",
   "execution_count": 19,
   "metadata": {
    "execution": {
     "iopub.execute_input": "2023-01-31T13:54:06.264732Z",
     "iopub.status.busy": "2023-01-31T13:54:06.263660Z",
     "iopub.status.idle": "2023-01-31T13:54:06.321824Z",
     "shell.execute_reply": "2023-01-31T13:54:06.320717Z",
     "shell.execute_reply.started": "2023-01-31T13:54:06.264678Z"
    }
   },
   "outputs": [
    {
     "name": "stdout",
     "output_type": "stream",
     "text": [
      "type_of_meal_plan\n"
     ]
    },
    {
     "data": {
      "text/html": [
       "<div>\n",
       "<style scoped>\n",
       "    .dataframe tbody tr th:only-of-type {\n",
       "        vertical-align: middle;\n",
       "    }\n",
       "\n",
       "    .dataframe tbody tr th {\n",
       "        vertical-align: top;\n",
       "    }\n",
       "\n",
       "    .dataframe thead th {\n",
       "        text-align: right;\n",
       "    }\n",
       "</style>\n",
       "<table border=\"1\" class=\"dataframe\">\n",
       "  <thead>\n",
       "    <tr style=\"text-align: right;\">\n",
       "      <th></th>\n",
       "      <th>mean</th>\n",
       "      <th>count</th>\n",
       "      <th>diff</th>\n",
       "      <th>risk</th>\n",
       "    </tr>\n",
       "    <tr>\n",
       "      <th>type_of_meal_plan</th>\n",
       "      <th></th>\n",
       "      <th></th>\n",
       "      <th></th>\n",
       "      <th></th>\n",
       "    </tr>\n",
       "  </thead>\n",
       "  <tbody>\n",
       "    <tr>\n",
       "      <th>meal_plan_1</th>\n",
       "      <td>0.309868</td>\n",
       "      <td>22274</td>\n",
       "      <td>-0.016424</td>\n",
       "      <td>0.949664</td>\n",
       "    </tr>\n",
       "    <tr>\n",
       "      <th>meal_plan_2</th>\n",
       "      <td>0.459917</td>\n",
       "      <td>2657</td>\n",
       "      <td>0.133625</td>\n",
       "      <td>1.409526</td>\n",
       "    </tr>\n",
       "    <tr>\n",
       "      <th>meal_plan_3</th>\n",
       "      <td>0.250000</td>\n",
       "      <td>4</td>\n",
       "      <td>-0.076292</td>\n",
       "      <td>0.766184</td>\n",
       "    </tr>\n",
       "    <tr>\n",
       "      <th>not_selected</th>\n",
       "      <td>0.329009</td>\n",
       "      <td>4085</td>\n",
       "      <td>0.002716</td>\n",
       "      <td>1.008325</td>\n",
       "    </tr>\n",
       "  </tbody>\n",
       "</table>\n",
       "</div>"
      ],
      "text/plain": [
       "                       mean  count      diff      risk\n",
       "type_of_meal_plan                                     \n",
       "meal_plan_1        0.309868  22274 -0.016424  0.949664\n",
       "meal_plan_2        0.459917   2657  0.133625  1.409526\n",
       "meal_plan_3        0.250000      4 -0.076292  0.766184\n",
       "not_selected       0.329009   4085  0.002716  1.008325"
      ]
     },
     "metadata": {},
     "output_type": "display_data"
    },
    {
     "name": "stdout",
     "output_type": "stream",
     "text": [
      "\n",
      "\n",
      "room_type_reserved\n"
     ]
    },
    {
     "data": {
      "text/html": [
       "<div>\n",
       "<style scoped>\n",
       "    .dataframe tbody tr th:only-of-type {\n",
       "        vertical-align: middle;\n",
       "    }\n",
       "\n",
       "    .dataframe tbody tr th {\n",
       "        vertical-align: top;\n",
       "    }\n",
       "\n",
       "    .dataframe thead th {\n",
       "        text-align: right;\n",
       "    }\n",
       "</style>\n",
       "<table border=\"1\" class=\"dataframe\">\n",
       "  <thead>\n",
       "    <tr style=\"text-align: right;\">\n",
       "      <th></th>\n",
       "      <th>mean</th>\n",
       "      <th>count</th>\n",
       "      <th>diff</th>\n",
       "      <th>risk</th>\n",
       "    </tr>\n",
       "    <tr>\n",
       "      <th>room_type_reserved</th>\n",
       "      <th></th>\n",
       "      <th></th>\n",
       "      <th></th>\n",
       "      <th></th>\n",
       "    </tr>\n",
       "  </thead>\n",
       "  <tbody>\n",
       "    <tr>\n",
       "      <th>room_type_1</th>\n",
       "      <td>0.321179</td>\n",
       "      <td>22489</td>\n",
       "      <td>-0.005113</td>\n",
       "      <td>0.984330</td>\n",
       "    </tr>\n",
       "    <tr>\n",
       "      <th>room_type_2</th>\n",
       "      <td>0.324515</td>\n",
       "      <td>567</td>\n",
       "      <td>-0.001777</td>\n",
       "      <td>0.994553</td>\n",
       "    </tr>\n",
       "    <tr>\n",
       "      <th>room_type_3</th>\n",
       "      <td>0.200000</td>\n",
       "      <td>5</td>\n",
       "      <td>-0.126292</td>\n",
       "      <td>0.612948</td>\n",
       "    </tr>\n",
       "    <tr>\n",
       "      <th>room_type_4</th>\n",
       "      <td>0.339806</td>\n",
       "      <td>4841</td>\n",
       "      <td>0.013514</td>\n",
       "      <td>1.041416</td>\n",
       "    </tr>\n",
       "    <tr>\n",
       "      <th>room_type_5</th>\n",
       "      <td>0.294393</td>\n",
       "      <td>214</td>\n",
       "      <td>-0.031900</td>\n",
       "      <td>0.902236</td>\n",
       "    </tr>\n",
       "    <tr>\n",
       "      <th>room_type_6</th>\n",
       "      <td>0.415265</td>\n",
       "      <td>773</td>\n",
       "      <td>0.088973</td>\n",
       "      <td>1.272679</td>\n",
       "    </tr>\n",
       "    <tr>\n",
       "      <th>room_type_7</th>\n",
       "      <td>0.244275</td>\n",
       "      <td>131</td>\n",
       "      <td>-0.082017</td>\n",
       "      <td>0.748638</td>\n",
       "    </tr>\n",
       "  </tbody>\n",
       "</table>\n",
       "</div>"
      ],
      "text/plain": [
       "                        mean  count      diff      risk\n",
       "room_type_reserved                                     \n",
       "room_type_1         0.321179  22489 -0.005113  0.984330\n",
       "room_type_2         0.324515    567 -0.001777  0.994553\n",
       "room_type_3         0.200000      5 -0.126292  0.612948\n",
       "room_type_4         0.339806   4841  0.013514  1.041416\n",
       "room_type_5         0.294393    214 -0.031900  0.902236\n",
       "room_type_6         0.415265    773  0.088973  1.272679\n",
       "room_type_7         0.244275    131 -0.082017  0.748638"
      ]
     },
     "metadata": {},
     "output_type": "display_data"
    },
    {
     "name": "stdout",
     "output_type": "stream",
     "text": [
      "\n",
      "\n",
      "market_segment_type\n"
     ]
    },
    {
     "data": {
      "text/html": [
       "<div>\n",
       "<style scoped>\n",
       "    .dataframe tbody tr th:only-of-type {\n",
       "        vertical-align: middle;\n",
       "    }\n",
       "\n",
       "    .dataframe tbody tr th {\n",
       "        vertical-align: top;\n",
       "    }\n",
       "\n",
       "    .dataframe thead th {\n",
       "        text-align: right;\n",
       "    }\n",
       "</style>\n",
       "<table border=\"1\" class=\"dataframe\">\n",
       "  <thead>\n",
       "    <tr style=\"text-align: right;\">\n",
       "      <th></th>\n",
       "      <th>mean</th>\n",
       "      <th>count</th>\n",
       "      <th>diff</th>\n",
       "      <th>risk</th>\n",
       "    </tr>\n",
       "    <tr>\n",
       "      <th>market_segment_type</th>\n",
       "      <th></th>\n",
       "      <th></th>\n",
       "      <th></th>\n",
       "      <th></th>\n",
       "    </tr>\n",
       "  </thead>\n",
       "  <tbody>\n",
       "    <tr>\n",
       "      <th>aviation</th>\n",
       "      <td>0.270833</td>\n",
       "      <td>96</td>\n",
       "      <td>-0.055459</td>\n",
       "      <td>0.830033</td>\n",
       "    </tr>\n",
       "    <tr>\n",
       "      <th>complementary</th>\n",
       "      <td>0.000000</td>\n",
       "      <td>312</td>\n",
       "      <td>-0.326292</td>\n",
       "      <td>0.000000</td>\n",
       "    </tr>\n",
       "    <tr>\n",
       "      <th>corporate</th>\n",
       "      <td>0.109681</td>\n",
       "      <td>1632</td>\n",
       "      <td>-0.216611</td>\n",
       "      <td>0.336145</td>\n",
       "    </tr>\n",
       "    <tr>\n",
       "      <th>offline</th>\n",
       "      <td>0.298458</td>\n",
       "      <td>8430</td>\n",
       "      <td>-0.027834</td>\n",
       "      <td>0.914695</td>\n",
       "    </tr>\n",
       "    <tr>\n",
       "      <th>online</th>\n",
       "      <td>0.363774</td>\n",
       "      <td>18550</td>\n",
       "      <td>0.037481</td>\n",
       "      <td>1.114871</td>\n",
       "    </tr>\n",
       "  </tbody>\n",
       "</table>\n",
       "</div>"
      ],
      "text/plain": [
       "                         mean  count      diff      risk\n",
       "market_segment_type                                     \n",
       "aviation             0.270833     96 -0.055459  0.830033\n",
       "complementary        0.000000    312 -0.326292  0.000000\n",
       "corporate            0.109681   1632 -0.216611  0.336145\n",
       "offline              0.298458   8430 -0.027834  0.914695\n",
       "online               0.363774  18550  0.037481  1.114871"
      ]
     },
     "metadata": {},
     "output_type": "display_data"
    },
    {
     "name": "stdout",
     "output_type": "stream",
     "text": [
      "\n",
      "\n"
     ]
    }
   ],
   "source": [
    "for c in categorical:\n",
    "    print(c)\n",
    "    df_group = df_train.groupby(c).booking_status.agg(['mean', 'count'])\n",
    "    df_group['diff'] = df_group['mean'] - global_churn\n",
    "    df_group['risk'] = df_group['mean'] / global_churn\n",
    "    display(df_group)\n",
    "    print()\n",
    "    print()"
   ]
  },
  {
   "cell_type": "code",
   "execution_count": 20,
   "metadata": {
    "execution": {
     "iopub.execute_input": "2023-01-31T13:54:10.653416Z",
     "iopub.status.busy": "2023-01-31T13:54:10.653002Z",
     "iopub.status.idle": "2023-01-31T13:54:10.658390Z",
     "shell.execute_reply": "2023-01-31T13:54:10.657464Z",
     "shell.execute_reply.started": "2023-01-31T13:54:10.653368Z"
    }
   },
   "outputs": [],
   "source": [
    "from sklearn.metrics import mutual_info_score"
   ]
  },
  {
   "cell_type": "code",
   "execution_count": 21,
   "metadata": {
    "execution": {
     "iopub.execute_input": "2023-01-31T13:54:14.774340Z",
     "iopub.status.busy": "2023-01-31T13:54:14.773960Z",
     "iopub.status.idle": "2023-01-31T13:54:14.779550Z",
     "shell.execute_reply": "2023-01-31T13:54:14.778451Z",
     "shell.execute_reply.started": "2023-01-31T13:54:14.774311Z"
    }
   },
   "outputs": [],
   "source": [
    "def mutual_info_churn_score(series):\n",
    "    return mutual_info_score(series, df_train.booking_status)"
   ]
  },
  {
   "cell_type": "code",
   "execution_count": 22,
   "metadata": {
    "execution": {
     "iopub.execute_input": "2023-01-31T13:54:18.634340Z",
     "iopub.status.busy": "2023-01-31T13:54:18.633719Z",
     "iopub.status.idle": "2023-01-31T13:54:18.801964Z",
     "shell.execute_reply": "2023-01-31T13:54:18.800903Z",
     "shell.execute_reply.started": "2023-01-31T13:54:18.634304Z"
    }
   },
   "outputs": [
    {
     "data": {
      "text/plain": [
       "market_segment_type    0.014029\n",
       "type_of_meal_plan      0.004002\n",
       "room_type_reserved     0.000673\n",
       "dtype: float64"
      ]
     },
     "execution_count": 22,
     "metadata": {},
     "output_type": "execute_result"
    }
   ],
   "source": [
    "mi = df_train[categorical].apply(mutual_info_churn_score)\n",
    "mi.sort_values(ascending=False)"
   ]
  },
  {
   "cell_type": "code",
   "execution_count": 23,
   "metadata": {
    "execution": {
     "iopub.execute_input": "2023-01-31T13:54:22.476241Z",
     "iopub.status.busy": "2023-01-31T13:54:22.475850Z",
     "iopub.status.idle": "2023-01-31T13:54:22.686266Z",
     "shell.execute_reply": "2023-01-31T13:54:22.685080Z",
     "shell.execute_reply.started": "2023-01-31T13:54:22.476210Z"
    }
   },
   "outputs": [
    {
     "name": "stderr",
     "output_type": "stream",
     "text": [
      "/opt/conda/lib/python3.7/site-packages/sklearn/metrics/cluster/_supervised.py:65: UserWarning: Clustering metrics expects discrete values but received continuous values for label, and binary values for target\n",
      "  warnings.warn(msg, UserWarning)\n"
     ]
    },
    {
     "data": {
      "text/plain": [
       "no_of_children                  0.000616\n",
       "lead_time                       0.136865\n",
       "required_car_parking_space      0.005083\n",
       "no_of_previous_cancellations    0.002886\n",
       "no_of_adults                    0.005223\n",
       "no_of_weekend_nights            0.002608\n",
       "no_of_week_nights               0.005924\n",
       "no_of_special_requests          0.038402\n",
       "repeated_guest                  0.008510\n",
       "avg_price_per_room              0.164747\n",
       "booking_status                  0.631522\n",
       "dtype: float64"
      ]
     },
     "execution_count": 23,
     "metadata": {},
     "output_type": "execute_result"
    }
   ],
   "source": [
    "from sklearn.feature_selection import mutual_info_classif\n",
    "\n",
    "df_train[numerical].apply(mutual_info_churn_score)"
   ]
  },
  {
   "cell_type": "code",
   "execution_count": 24,
   "metadata": {
    "execution": {
     "iopub.execute_input": "2023-01-31T13:54:26.272909Z",
     "iopub.status.busy": "2023-01-31T13:54:26.272102Z",
     "iopub.status.idle": "2023-01-31T13:54:27.372626Z",
     "shell.execute_reply": "2023-01-31T13:54:27.371745Z",
     "shell.execute_reply.started": "2023-01-31T13:54:26.272869Z"
    }
   },
   "outputs": [
    {
     "data": {
      "image/png": "[encoded data removed]",
      "text/plain": [
       "<Figure size 1080x720 with 2 Axes>"
      ]
     },
     "metadata": {
      "needs_background": "light"
     },
     "output_type": "display_data"
    }
   ],
   "source": [
    "import matplotlib.pyplot as plt\n",
    "import seaborn as sns\n",
    "plt.figure(figsize=(15,10))  \n",
    "sns.heatmap(res[numerical].corr(),annot=True,linewidths=.5, cmap=\"Blues\")\n",
    "plt.title('Heatmap showing correlations between numerical data')\n",
    "plt.show()"
   ]
  },
  {
   "cell_type": "code",
   "execution_count": 12,
   "metadata": {
    "execution": {
     "iopub.execute_input": "2023-01-31T20:02:45.804597Z",
     "iopub.status.busy": "2023-01-31T20:02:45.804195Z",
     "iopub.status.idle": "2023-01-31T20:02:45.812726Z",
     "shell.execute_reply": "2023-01-31T20:02:45.811219Z",
     "shell.execute_reply.started": "2023-01-31T20:02:45.804564Z"
    }
   },
   "outputs": [],
   "source": [
    "y_train = df_train.booking_status.values\n",
    "y_test = df_test.booking_status.values\n",
    "del df_train['booking_status']\n",
    "del df_test['booking_status']"
   ]
  },
  {
   "cell_type": "code",
   "execution_count": 127,
   "metadata": {
    "execution": {
     "iopub.execute_input": "2023-01-31T19:51:53.024081Z",
     "iopub.status.busy": "2023-01-31T19:51:53.022941Z",
     "iopub.status.idle": "2023-01-31T19:51:53.029492Z",
     "shell.execute_reply": "2023-01-31T19:51:53.028351Z",
     "shell.execute_reply.started": "2023-01-31T19:51:53.024029Z"
    }
   },
   "outputs": [],
   "source": [
    "cat= ['type_of_meal_plan','room_type_reserved','market_segment_type']\n",
    "num = ['no_of_children',\n",
    " 'lead_time',\n",
    " 'required_car_parking_space',\n",
    " 'no_of_previous_cancellations',\n",
    " 'no_of_adults',\n",
    " 'no_of_weekend_nights',\n",
    " 'no_of_week_nights',\n",
    " 'no_of_special_requests',\n",
    " 'repeated_guest',\n",
    " 'avg_price_per_room']"
   ]
  },
  {
   "cell_type": "code",
   "execution_count": 18,
   "metadata": {
    "execution": {
     "iopub.execute_input": "2023-01-31T20:04:05.667661Z",
     "iopub.status.busy": "2023-01-31T20:04:05.667278Z",
     "iopub.status.idle": "2023-01-31T20:04:05.672249Z",
     "shell.execute_reply": "2023-01-31T20:04:05.671078Z",
     "shell.execute_reply.started": "2023-01-31T20:04:05.667630Z"
    }
   },
   "outputs": [],
   "source": [
    "from sklearn.feature_extraction import DictVectorizer"
   ]
  },
  {
   "cell_type": "code",
   "execution_count": 69,
   "metadata": {
    "execution": {
     "iopub.execute_input": "2023-01-31T18:43:23.015170Z",
     "iopub.status.busy": "2023-01-31T18:43:23.014377Z",
     "iopub.status.idle": "2023-01-31T18:43:24.136579Z",
     "shell.execute_reply": "2023-01-31T18:43:24.135336Z",
     "shell.execute_reply.started": "2023-01-31T18:43:23.015122Z"
    }
   },
   "outputs": [],
   "source": [
    "dv = DictVectorizer(sparse=False)\n",
    "\n",
    "train_dict = df_train[cat + num].to_dict(orient='records')\n",
    "X_train = dv.fit_transform(train_dict)\n",
    "\n",
    "test_dict = df_test[cat + num].to_dict(orient='records')\n",
    "X_test = dv.transform(test_dict)"
   ]
  },
  {
   "cell_type": "code",
   "execution_count": 70,
   "metadata": {
    "execution": {
     "iopub.execute_input": "2023-01-31T18:43:26.003819Z",
     "iopub.status.busy": "2023-01-31T18:43:26.002279Z",
     "iopub.status.idle": "2023-01-31T18:43:26.011109Z",
     "shell.execute_reply": "2023-01-31T18:43:26.009461Z",
     "shell.execute_reply.started": "2023-01-31T18:43:26.003766Z"
    }
   },
   "outputs": [],
   "source": [
    "from sklearn.linear_model import LogisticRegression"
   ]
  },
  {
   "cell_type": "code",
   "execution_count": 71,
   "metadata": {
    "execution": {
     "iopub.execute_input": "2023-01-31T18:43:28.232370Z",
     "iopub.status.busy": "2023-01-31T18:43:28.231606Z",
     "iopub.status.idle": "2023-01-31T18:43:28.440709Z",
     "shell.execute_reply": "2023-01-31T18:43:28.438727Z",
     "shell.execute_reply.started": "2023-01-31T18:43:28.232321Z"
    }
   },
   "outputs": [],
   "source": [
    "model = LogisticRegression(solver='liblinear')\n",
    "model.fit(X_train, y_train)\n",
    "y_pred = model.predict(X_test)"
   ]
  },
  {
   "cell_type": "code",
   "execution_count": 72,
   "metadata": {
    "execution": {
     "iopub.execute_input": "2023-01-31T18:43:31.382940Z",
     "iopub.status.busy": "2023-01-31T18:43:31.382552Z",
     "iopub.status.idle": "2023-01-31T18:43:31.408212Z",
     "shell.execute_reply": "2023-01-31T18:43:31.407081Z",
     "shell.execute_reply.started": "2023-01-31T18:43:31.382910Z"
    }
   },
   "outputs": [
    {
     "name": "stdout",
     "output_type": "stream",
     "text": [
      "Accuracy Score : 0.8030323914541695\n",
      "Precision Score : 0.7521716913643332\n",
      "Recall Score : 0.609271523178808\n",
      "F1 Score : 0.6732220443631375\n",
      "Confusion Matrix : \n",
      "[[4354  485]\n",
      " [ 944 1472]]\n"
     ]
    }
   ],
   "source": [
    "from sklearn.metrics import accuracy_score,recall_score,precision_score,f1_score\n",
    "print('Accuracy Score : ' + str(accuracy_score(y_test,y_pred)))\n",
    "print('Precision Score : ' + str(precision_score(y_test,y_pred)))\n",
    "print('Recall Score : ' + str(recall_score(y_test,y_pred)))\n",
    "print('F1 Score : ' + str(f1_score(y_test,y_pred)))\n",
    "\n",
    "#Logistic Regression Classifier Confusion matrix\n",
    "from sklearn.metrics import confusion_matrix\n",
    "print('Confusion Matrix : \\n' + str(confusion_matrix(y_test,y_pred)))"
   ]
  },
  {
   "cell_type": "code",
   "execution_count": 73,
   "metadata": {
    "execution": {
     "iopub.execute_input": "2023-01-31T18:44:07.550206Z",
     "iopub.status.busy": "2023-01-31T18:44:07.549749Z",
     "iopub.status.idle": "2023-01-31T18:44:07.703076Z",
     "shell.execute_reply": "2023-01-31T18:44:07.701275Z",
     "shell.execute_reply.started": "2023-01-31T18:44:07.550172Z"
    }
   },
   "outputs": [],
   "source": [
    "from sklearn.preprocessing import  StandardScaler, RobustScaler, MinMaxScaler\n",
    "\n",
    "sc_x =MinMaxScaler()\n",
    "X_train_sc = sc_x.fit_transform(X_train)\n",
    "X_test_sc = sc_x.transform(X_test)\n",
    "\n",
    "model = LogisticRegression(solver='liblinear')\n",
    "model.fit(X_train_sc, y_train)\n",
    "y_pred_sc = model.predict(X_test_sc)"
   ]
  },
  {
   "cell_type": "code",
   "execution_count": 74,
   "metadata": {
    "execution": {
     "iopub.execute_input": "2023-01-31T18:44:11.050154Z",
     "iopub.status.busy": "2023-01-31T18:44:11.049740Z",
     "iopub.status.idle": "2023-01-31T18:44:11.073525Z",
     "shell.execute_reply": "2023-01-31T18:44:11.072342Z",
     "shell.execute_reply.started": "2023-01-31T18:44:11.050122Z"
    }
   },
   "outputs": [
    {
     "name": "stdout",
     "output_type": "stream",
     "text": [
      "Accuracy Score : 0.8033080634045486\n",
      "Precision Score : 0.7547655847501288\n",
      "Recall Score : 0.6063741721854304\n",
      "F1 Score : 0.6724810649529492\n",
      "Confusion Matrix : \n",
      "[[4363  476]\n",
      " [ 951 1465]]\n"
     ]
    }
   ],
   "source": [
    "print('Accuracy Score : ' + str(accuracy_score(y_test,y_pred_sc)))\n",
    "print('Precision Score : ' + str(precision_score(y_test,y_pred_sc)))\n",
    "print('Recall Score : ' + str(recall_score(y_test,y_pred_sc)))\n",
    "print('F1 Score : ' + str(f1_score(y_test,y_pred_sc)))\n",
    "\n",
    "#Logistic Regression Classifier Confusion matrix\n",
    "from sklearn.metrics import confusion_matrix\n",
    "print('Confusion Matrix : \\n' + str(confusion_matrix(y_test,y_pred_sc)))"
   ]
  },
  {
   "cell_type": "code",
   "execution_count": 34,
   "metadata": {
    "execution": {
     "iopub.execute_input": "2023-01-31T13:55:06.062388Z",
     "iopub.status.busy": "2023-01-31T13:55:06.061974Z",
     "iopub.status.idle": "2023-01-31T13:55:06.067542Z",
     "shell.execute_reply": "2023-01-31T13:55:06.066324Z",
     "shell.execute_reply.started": "2023-01-31T13:55:06.062354Z"
    }
   },
   "outputs": [],
   "source": [
    "from sklearn.model_selection import GridSearchCV "
   ]
  },
  {
   "cell_type": "code",
   "execution_count": 58,
   "metadata": {
    "execution": {
     "iopub.execute_input": "2023-01-31T18:33:18.646555Z",
     "iopub.status.busy": "2023-01-31T18:33:18.646135Z",
     "iopub.status.idle": "2023-01-31T18:35:40.592363Z",
     "shell.execute_reply": "2023-01-31T18:35:40.588139Z",
     "shell.execute_reply.started": "2023-01-31T18:33:18.646521Z"
    }
   },
   "outputs": [
    {
     "name": "stdout",
     "output_type": "stream",
     "text": [
      "Accuracy Score : 0.8034458993797381\n",
      "Precision Score : 0.7525510204081632\n",
      "Recall Score : 0.6105132450331126\n",
      "F1 Score : 0.6741316270566727\n"
     ]
    },
    {
     "data": {
      "text/plain": [
       "array([[4354,  485],\n",
       "       [ 941, 1475]])"
      ]
     },
     "execution_count": 58,
     "metadata": {},
     "output_type": "execute_result"
    }
   ],
   "source": [
    "clf = LogisticRegression(solver='liblinear',max_iter = 2000)\n",
    "grid_values = {'penalty': ['l1', 'l2'],'C':[0.001,.009,0.01,.09,1,5,10,25]}\n",
    "grid_clf_acc = GridSearchCV(clf, param_grid = grid_values,scoring = 'recall')\n",
    "grid_clf_acc.fit(X_train_sc, y_train)\n",
    "\n",
    "y_pred_acc = grid_clf_acc.predict(X_test_sc)\n",
    "\n",
    "print('Accuracy Score : ' + str(accuracy_score(y_test,y_pred_acc)))\n",
    "print('Precision Score : ' + str(precision_score(y_test,y_pred_acc)))\n",
    "print('Recall Score : ' + str(recall_score(y_test,y_pred_acc)))\n",
    "print('F1 Score : ' + str(f1_score(y_test,y_pred_acc)))\n",
    "\n",
    "confusion_matrix(y_test,y_pred_acc)"
   ]
  },
  {
   "cell_type": "code",
   "execution_count": 54,
   "metadata": {
    "execution": {
     "iopub.execute_input": "2023-01-31T18:25:56.993230Z",
     "iopub.status.busy": "2023-01-31T18:25:56.992505Z",
     "iopub.status.idle": "2023-01-31T18:25:57.001005Z",
     "shell.execute_reply": "2023-01-31T18:25:56.999821Z",
     "shell.execute_reply.started": "2023-01-31T18:25:56.993191Z"
    }
   },
   "outputs": [
    {
     "data": {
      "text/plain": [
       "LogisticRegression(C=25, max_iter=2000, penalty='l1', solver='liblinear')"
      ]
     },
     "execution_count": 54,
     "metadata": {},
     "output_type": "execute_result"
    }
   ],
   "source": [
    "grid_clf_acc.best_params_\n",
    "grid_clf_acc.best_estimator_"
   ]
  },
  {
   "cell_type": "code",
   "execution_count": 36,
   "metadata": {
    "execution": {
     "iopub.execute_input": "2023-01-31T13:59:32.322295Z",
     "iopub.status.busy": "2023-01-31T13:59:32.321853Z",
     "iopub.status.idle": "2023-01-31T13:59:32.330509Z",
     "shell.execute_reply": "2023-01-31T13:59:32.329120Z",
     "shell.execute_reply.started": "2023-01-31T13:59:32.322262Z"
    }
   },
   "outputs": [
    {
     "data": {
      "text/plain": [
       "['type_of_meal_plan',\n",
       " 'room_type_reserved',\n",
       " 'market_segment_type',\n",
       " 'no_of_children',\n",
       " 'lead_time',\n",
       " 'required_car_parking_space',\n",
       " 'no_of_previous_cancellations',\n",
       " 'no_of_adults',\n",
       " 'no_of_weekend_nights',\n",
       " 'no_of_week_nights',\n",
       " 'no_of_special_requests',\n",
       " 'repeated_guest',\n",
       " 'avg_price_per_room']"
      ]
     },
     "execution_count": 36,
     "metadata": {},
     "output_type": "execute_result"
    }
   ],
   "source": [
    "features = cat + num\n",
    "features"
   ]
  },
  {
   "cell_type": "code",
   "execution_count": 61,
   "metadata": {
    "execution": {
     "iopub.execute_input": "2023-01-31T18:38:47.250825Z",
     "iopub.status.busy": "2023-01-31T18:38:47.249882Z",
     "iopub.status.idle": "2023-01-31T18:39:08.778265Z",
     "shell.execute_reply": "2023-01-31T18:39:08.776689Z",
     "shell.execute_reply.started": "2023-01-31T18:38:47.250784Z"
    }
   },
   "outputs": [
    {
     "name": "stdout",
     "output_type": "stream",
     "text": [
      "type_of_meal_plan 0.0 0.7525510204081632\n",
      "room_type_reserved 0.0 0.7525510204081632\n",
      "market_segment_type 0.0 0.7525510204081632\n",
      "no_of_children 0.0 0.7525510204081632\n",
      "lead_time -0.0003841505974518933 0.7529351710056151\n",
      "required_car_parking_space 0.00012631392526385454 0.7524247064828994\n",
      "no_of_previous_cancellations 0.0 0.7525510204081632\n",
      "no_of_adults 0.0 0.7525510204081632\n",
      "no_of_weekend_nights 0.00012631392526385454 0.7524247064828994\n",
      "no_of_week_nights 0.0 0.7525510204081632\n",
      "no_of_special_requests 0.0 0.7525510204081632\n",
      "repeated_guest 0.0 0.7525510204081632\n",
      "avg_price_per_room 0.0 0.7525510204081632\n"
     ]
    }
   ],
   "source": [
    "orig_score = recall_score(y_test,y_pred_acc)\n",
    "\n",
    "for c in features:\n",
    "    subset = features.copy()\n",
    "    subset.remove(c)\n",
    "    \n",
    "    train_dict = df_train[subset].to_dict(orient='records')\n",
    "\n",
    "    dv = DictVectorizer(sparse=False)\n",
    "    dv.fit(train_dict)\n",
    "\n",
    "    X_train = dv.transform(train_dict)\n",
    "\n",
    "    model = LogisticRegression(C=25, max_iter=2000, penalty='l1', solver='liblinear')\n",
    "    model.fit(X_train_sc, y_train)\n",
    "\n",
    "    test_dict = df_test[subset].to_dict(orient='records')\n",
    "    X_test = dv.transform(test_dict)\n",
    "\n",
    "    y_pred = model.predict(X_test_sc)\n",
    "\n",
    "    score = precision_score(y_test,y_pred)\n",
    "    print(c, orig_score - score, score)"
   ]
  },
  {
   "cell_type": "code",
   "execution_count": 94,
   "metadata": {
    "execution": {
     "iopub.execute_input": "2023-01-31T18:50:21.722895Z",
     "iopub.status.busy": "2023-01-31T18:50:21.722503Z",
     "iopub.status.idle": "2023-01-31T18:50:21.728150Z",
     "shell.execute_reply": "2023-01-31T18:50:21.727218Z",
     "shell.execute_reply.started": "2023-01-31T18:50:21.722865Z"
    }
   },
   "outputs": [],
   "source": [
    "cat= ['type_of_meal_plan','room_type_reserved','market_segment_type']\n",
    "num = ['no_of_children',\n",
    " 'lead_time',\n",
    "\n",
    " \n",
    " 'no_of_adults',\n",
    " 'no_of_weekend_nights',\n",
    " 'no_of_week_nights',\n",
    " 'no_of_special_requests',\n",
    " 'repeated_guest',\n",
    " 'avg_price_per_room']"
   ]
  },
  {
   "cell_type": "code",
   "execution_count": 95,
   "metadata": {
    "execution": {
     "iopub.execute_input": "2023-01-31T18:50:24.632633Z",
     "iopub.status.busy": "2023-01-31T18:50:24.631900Z",
     "iopub.status.idle": "2023-01-31T18:50:25.584428Z",
     "shell.execute_reply": "2023-01-31T18:50:25.583241Z",
     "shell.execute_reply.started": "2023-01-31T18:50:24.632570Z"
    }
   },
   "outputs": [],
   "source": [
    "dv = DictVectorizer(sparse=False)\n",
    "\n",
    "train_dict = df_train[cat + num].to_dict(orient='records')\n",
    "X_train = dv.fit_transform(train_dict)\n",
    "\n",
    "test_dict = df_test[cat + num].to_dict(orient='records')\n",
    "X_test = dv.transform(test_dict)"
   ]
  },
  {
   "cell_type": "code",
   "execution_count": 96,
   "metadata": {
    "execution": {
     "iopub.execute_input": "2023-01-31T18:50:26.926013Z",
     "iopub.status.busy": "2023-01-31T18:50:26.925633Z",
     "iopub.status.idle": "2023-01-31T18:50:27.344322Z",
     "shell.execute_reply": "2023-01-31T18:50:27.342760Z",
     "shell.execute_reply.started": "2023-01-31T18:50:26.925982Z"
    }
   },
   "outputs": [
    {
     "name": "stdout",
     "output_type": "stream",
     "text": [
      "Accuracy Score : 0.8038594073053067\n",
      "Precision Score : 0.7537046499744506\n",
      "Recall Score : 0.6105132450331126\n",
      "F1 Score : 0.6745941001600732\n"
     ]
    },
    {
     "data": {
      "text/plain": [
       "array([[4357,  482],\n",
       "       [ 941, 1475]])"
      ]
     },
     "execution_count": 96,
     "metadata": {},
     "output_type": "execute_result"
    }
   ],
   "source": [
    "sc_x =MinMaxScaler()\n",
    "X_train_sc = sc_x.fit_transform(X_train)\n",
    "X_test_sc = sc_x.transform(X_test)\n",
    "\n",
    "model = LogisticRegression(C=25, max_iter=2000, penalty='l1', solver='liblinear')\n",
    "model.fit(X_train_sc, y_train)\n",
    "y_pred_acc = model.predict(X_test_sc)\n",
    "\n",
    "print('Accuracy Score : ' + str(accuracy_score(y_test,y_pred_acc)))\n",
    "print('Precision Score : ' + str(precision_score(y_test,y_pred_acc)))\n",
    "print('Recall Score : ' + str(recall_score(y_test,y_pred_acc)))\n",
    "print('F1 Score : ' + str(f1_score(y_test,y_pred_acc)))\n",
    "\n",
    "confusion_matrix(y_test,y_pred_acc)"
   ]
  },
  {
   "cell_type": "code",
   "execution_count": 13,
   "metadata": {
    "execution": {
     "iopub.execute_input": "2023-01-31T20:02:56.282523Z",
     "iopub.status.busy": "2023-01-31T20:02:56.281737Z",
     "iopub.status.idle": "2023-01-31T20:02:56.389032Z",
     "shell.execute_reply": "2023-01-31T20:02:56.387471Z",
     "shell.execute_reply.started": "2023-01-31T20:02:56.282481Z"
    }
   },
   "outputs": [],
   "source": [
    "from sklearn.svm import SVC"
   ]
  },
  {
   "cell_type": "code",
   "execution_count": 38,
   "metadata": {
    "execution": {
     "iopub.execute_input": "2023-01-31T13:59:46.184719Z",
     "iopub.status.busy": "2023-01-31T13:59:46.183890Z",
     "iopub.status.idle": "2023-01-31T13:59:46.190501Z",
     "shell.execute_reply": "2023-01-31T13:59:46.189452Z",
     "shell.execute_reply.started": "2023-01-31T13:59:46.184672Z"
    }
   },
   "outputs": [],
   "source": [
    "model = SVC(C= 1, gamma= 0.01, kernel= 'rbf', random_state=42)"
   ]
  },
  {
   "cell_type": "code",
   "execution_count": 39,
   "metadata": {
    "execution": {
     "iopub.execute_input": "2023-01-31T13:59:50.280519Z",
     "iopub.status.busy": "2023-01-31T13:59:50.280128Z",
     "iopub.status.idle": "2023-01-31T13:59:50.285948Z",
     "shell.execute_reply": "2023-01-31T13:59:50.284450Z",
     "shell.execute_reply.started": "2023-01-31T13:59:50.280489Z"
    }
   },
   "outputs": [],
   "source": [
    "cat= ['type_of_meal_plan','room_type_reserved','market_segment_type']\n",
    "num = ['no_of_children',\n",
    " 'lead_time',\n",
    " 'required_car_parking_space',\n",
    " 'no_of_previous_cancellations',\n",
    " 'no_of_adults',\n",
    " 'no_of_weekend_nights',\n",
    " 'no_of_week_nights',\n",
    " 'no_of_special_requests',\n",
    " 'repeated_guest',\n",
    " 'avg_price_per_room']"
   ]
  },
  {
   "cell_type": "code",
   "execution_count": 40,
   "metadata": {
    "execution": {
     "iopub.execute_input": "2023-01-31T13:59:52.917884Z",
     "iopub.status.busy": "2023-01-31T13:59:52.917501Z",
     "iopub.status.idle": "2023-01-31T13:59:54.034637Z",
     "shell.execute_reply": "2023-01-31T13:59:54.033274Z",
     "shell.execute_reply.started": "2023-01-31T13:59:52.917855Z"
    }
   },
   "outputs": [],
   "source": [
    "dv = DictVectorizer(sparse=False)\n",
    "\n",
    "train_dict = df_train[cat + num].to_dict(orient='records')\n",
    "X_train = dv.fit_transform(train_dict)\n",
    "\n",
    "test_dict = df_test[cat + num].to_dict(orient='records')\n",
    "X_test = dv.transform(test_dict)"
   ]
  },
  {
   "cell_type": "code",
   "execution_count": 41,
   "metadata": {
    "execution": {
     "iopub.execute_input": "2023-01-31T13:59:58.481659Z",
     "iopub.status.busy": "2023-01-31T13:59:58.481237Z",
     "iopub.status.idle": "2023-01-31T14:00:53.757647Z",
     "shell.execute_reply": "2023-01-31T14:00:53.756177Z",
     "shell.execute_reply.started": "2023-01-31T13:59:58.481624Z"
    }
   },
   "outputs": [
    {
     "data": {
      "text/plain": [
       "SVC(C=1, gamma=0.01, random_state=42)"
      ]
     },
     "execution_count": 41,
     "metadata": {},
     "output_type": "execute_result"
    }
   ],
   "source": [
    "model.fit(X_train,y_train)"
   ]
  },
  {
   "cell_type": "code",
   "execution_count": 42,
   "metadata": {
    "execution": {
     "iopub.execute_input": "2023-01-31T14:01:23.298154Z",
     "iopub.status.busy": "2023-01-31T14:01:23.297740Z",
     "iopub.status.idle": "2023-01-31T14:01:31.304177Z",
     "shell.execute_reply": "2023-01-31T14:01:31.302775Z",
     "shell.execute_reply.started": "2023-01-31T14:01:23.298120Z"
    }
   },
   "outputs": [],
   "source": [
    "y_pred = model.predict(X_test)"
   ]
  },
  {
   "cell_type": "code",
   "execution_count": 48,
   "metadata": {
    "execution": {
     "iopub.execute_input": "2023-01-31T05:26:19.220256Z",
     "iopub.status.busy": "2023-01-31T05:26:19.219821Z",
     "iopub.status.idle": "2023-01-31T05:26:19.243189Z",
     "shell.execute_reply": "2023-01-31T05:26:19.241863Z",
     "shell.execute_reply.started": "2023-01-31T05:26:19.220218Z"
    }
   },
   "outputs": [
    {
     "name": "stdout",
     "output_type": "stream",
     "text": [
      "Accuracy Score : 0.8095106822880772\n",
      "Precision Score : 0.8469798657718121\n",
      "Recall Score : 0.5223509933774835\n",
      "F1 Score : 0.6461853558627753\n",
      "Confusion Matrix : \n",
      "[[4611  228]\n",
      " [1154 1262]]\n"
     ]
    }
   ],
   "source": [
    "from sklearn.metrics import accuracy_score,recall_score,precision_score,f1_score\n",
    "print('Accuracy Score : ' + str(accuracy_score(y_test,y_pred)))\n",
    "print('Precision Score : ' + str(precision_score(y_test,y_pred)))\n",
    "print('Recall Score : ' + str(recall_score(y_test,y_pred)))\n",
    "print('F1 Score : ' + str(f1_score(y_test,y_pred)))\n",
    "\n",
    "#SVM Classifier Confusion matrix\n",
    "from sklearn.metrics import confusion_matrix\n",
    "print('Confusion Matrix : \\n' + str(confusion_matrix(y_test,y_pred)))"
   ]
  },
  {
   "cell_type": "code",
   "execution_count": 51,
   "metadata": {
    "execution": {
     "iopub.execute_input": "2023-01-31T18:12:28.938066Z",
     "iopub.status.busy": "2023-01-31T18:12:28.937664Z",
     "iopub.status.idle": "2023-01-31T18:13:07.693637Z",
     "shell.execute_reply": "2023-01-31T18:13:07.692419Z",
     "shell.execute_reply.started": "2023-01-31T18:12:28.938034Z"
    }
   },
   "outputs": [
    {
     "name": "stdout",
     "output_type": "stream",
     "text": [
      "Accuracy Score : 0.8187456926257753\n",
      "Precision Score : 0.8\n",
      "Recall Score : 0.6076158940397351\n",
      "F1 Score : 0.6906610209362504\n",
      "Confusion Matrix : \n",
      "[[4472  367]\n",
      " [ 948 1468]]\n"
     ]
    }
   ],
   "source": [
    "sc_x =StandardScaler()\n",
    "X_train_sc = sc_x.fit_transform(X_train)\n",
    "X_test_sc = sc_x.transform(X_test)\n",
    "model.fit(X_train_sc,y_train)\n",
    "y_pred = model.predict(X_test_sc)\n",
    "\n",
    "from sklearn.metrics import accuracy_score,recall_score,precision_score,f1_score\n",
    "print('Accuracy Score : ' + str(accuracy_score(y_test,y_pred)))\n",
    "print('Precision Score : ' + str(precision_score(y_test,y_pred)))\n",
    "print('Recall Score : ' + str(recall_score(y_test,y_pred)))\n",
    "print('F1 Score : ' + str(f1_score(y_test,y_pred)))\n",
    "\n",
    "#SVM Classifier Confusion matrix\n",
    "from sklearn.metrics import confusion_matrix\n",
    "print('Confusion Matrix : \\n' + str(confusion_matrix(y_test,y_pred)))"
   ]
  },
  {
   "cell_type": "code",
   "execution_count": 43,
   "metadata": {
    "execution": {
     "iopub.execute_input": "2023-01-31T14:01:39.849888Z",
     "iopub.status.busy": "2023-01-31T14:01:39.849431Z",
     "iopub.status.idle": "2023-01-31T14:01:39.855671Z",
     "shell.execute_reply": "2023-01-31T14:01:39.854525Z",
     "shell.execute_reply.started": "2023-01-31T14:01:39.849854Z"
    }
   },
   "outputs": [],
   "source": [
    "param_grid = {'C': [0.1,1, 10, 100, 1000], 'gamma': [1,0.1,0.01,0.001,0.0001], 'kernel': ['rbf']} "
   ]
  },
  {
   "cell_type": "code",
   "execution_count": 44,
   "metadata": {
    "execution": {
     "iopub.execute_input": "2023-01-31T14:01:42.374653Z",
     "iopub.status.busy": "2023-01-31T14:01:42.374233Z",
     "iopub.status.idle": "2023-01-31T14:01:42.379843Z",
     "shell.execute_reply": "2023-01-31T14:01:42.378761Z",
     "shell.execute_reply.started": "2023-01-31T14:01:42.374616Z"
    }
   },
   "outputs": [],
   "source": [
    "from sklearn.model_selection import GridSearchCV\n",
    "grid = GridSearchCV(SVC(),param_grid,refit=True,verbose=3,scoring = 'recall')"
   ]
  },
  {
   "cell_type": "code",
   "execution_count": 45,
   "metadata": {
    "execution": {
     "iopub.execute_input": "2023-01-31T14:01:44.987768Z",
     "iopub.status.busy": "2023-01-31T14:01:44.987127Z",
     "iopub.status.idle": "2023-01-31T17:38:52.310821Z",
     "shell.execute_reply": "2023-01-31T17:38:52.309417Z",
     "shell.execute_reply.started": "2023-01-31T14:01:44.987729Z"
    }
   },
   "outputs": [
    {
     "name": "stdout",
     "output_type": "stream",
     "text": [
      "Fitting 5 folds for each of 25 candidates, totalling 125 fits\n",
      "[CV 1/5] END ........C=0.1, gamma=1, kernel=rbf;, score=0.186 total time= 1.4min\n",
      "[CV 2/5] END ........C=0.1, gamma=1, kernel=rbf;, score=0.194 total time= 1.4min\n",
      "[CV 3/5] END ........C=0.1, gamma=1, kernel=rbf;, score=0.187 total time= 1.4min\n",
      "[CV 4/5] END ........C=0.1, gamma=1, kernel=rbf;, score=0.201 total time= 1.4min\n",
      "[CV 5/5] END ........C=0.1, gamma=1, kernel=rbf;, score=0.180 total time= 1.4min\n",
      "[CV 1/5] END ......C=0.1, gamma=0.1, kernel=rbf;, score=0.269 total time=  59.8s\n",
      "[CV 2/5] END ......C=0.1, gamma=0.1, kernel=rbf;, score=0.274 total time= 1.0min\n",
      "[CV 3/5] END ......C=0.1, gamma=0.1, kernel=rbf;, score=0.276 total time=  59.8s\n",
      "[CV 4/5] END ......C=0.1, gamma=0.1, kernel=rbf;, score=0.280 total time= 1.0min\n",
      "[CV 5/5] END ......C=0.1, gamma=0.1, kernel=rbf;, score=0.278 total time= 1.1min\n",
      "[CV 1/5] END .....C=0.1, gamma=0.01, kernel=rbf;, score=0.407 total time=  31.3s\n",
      "[CV 2/5] END .....C=0.1, gamma=0.01, kernel=rbf;, score=0.404 total time=  31.0s\n",
      "[CV 3/5] END .....C=0.1, gamma=0.01, kernel=rbf;, score=0.407 total time=  31.3s\n",
      "[CV 4/5] END .....C=0.1, gamma=0.01, kernel=rbf;, score=0.414 total time=  31.0s\n",
      "[CV 5/5] END .....C=0.1, gamma=0.01, kernel=rbf;, score=0.394 total time=  31.3s\n",
      "[CV 1/5] END ....C=0.1, gamma=0.001, kernel=rbf;, score=0.400 total time=  26.8s\n",
      "[CV 2/5] END ....C=0.1, gamma=0.001, kernel=rbf;, score=0.405 total time=  27.0s\n",
      "[CV 3/5] END ....C=0.1, gamma=0.001, kernel=rbf;, score=0.405 total time=  27.0s\n",
      "[CV 4/5] END ....C=0.1, gamma=0.001, kernel=rbf;, score=0.410 total time=  26.9s\n",
      "[CV 5/5] END ....C=0.1, gamma=0.001, kernel=rbf;, score=0.399 total time=  26.9s\n",
      "[CV 1/5] END ...C=0.1, gamma=0.0001, kernel=rbf;, score=0.411 total time=  29.0s\n",
      "[CV 2/5] END ...C=0.1, gamma=0.0001, kernel=rbf;, score=0.417 total time=  29.0s\n",
      "[CV 3/5] END ...C=0.1, gamma=0.0001, kernel=rbf;, score=0.417 total time=  28.7s\n",
      "[CV 4/5] END ...C=0.1, gamma=0.0001, kernel=rbf;, score=0.417 total time=  28.4s\n",
      "[CV 5/5] END ...C=0.1, gamma=0.0001, kernel=rbf;, score=0.415 total time=  28.6s\n",
      "[CV 1/5] END ..........C=1, gamma=1, kernel=rbf;, score=0.433 total time= 1.7min\n",
      "[CV 2/5] END ..........C=1, gamma=1, kernel=rbf;, score=0.427 total time= 1.7min\n",
      "[CV 3/5] END ..........C=1, gamma=1, kernel=rbf;, score=0.426 total time= 1.7min\n",
      "[CV 4/5] END ..........C=1, gamma=1, kernel=rbf;, score=0.425 total time= 1.7min\n",
      "[CV 5/5] END ..........C=1, gamma=1, kernel=rbf;, score=0.420 total time= 1.7min\n",
      "[CV 1/5] END ........C=1, gamma=0.1, kernel=rbf;, score=0.586 total time= 1.8min\n",
      "[CV 2/5] END ........C=1, gamma=0.1, kernel=rbf;, score=0.584 total time= 1.5min\n",
      "[CV 3/5] END ........C=1, gamma=0.1, kernel=rbf;, score=0.599 total time= 1.5min\n",
      "[CV 4/5] END ........C=1, gamma=0.1, kernel=rbf;, score=0.593 total time= 1.5min\n",
      "[CV 5/5] END ........C=1, gamma=0.1, kernel=rbf;, score=0.565 total time= 1.5min\n",
      "[CV 1/5] END .......C=1, gamma=0.01, kernel=rbf;, score=0.514 total time=  29.5s\n",
      "[CV 2/5] END .......C=1, gamma=0.01, kernel=rbf;, score=0.525 total time=  30.1s\n",
      "[CV 3/5] END .......C=1, gamma=0.01, kernel=rbf;, score=0.522 total time=  29.7s\n",
      "[CV 4/5] END .......C=1, gamma=0.01, kernel=rbf;, score=0.513 total time=  29.8s\n",
      "[CV 5/5] END .......C=1, gamma=0.01, kernel=rbf;, score=0.513 total time=  29.4s\n",
      "[CV 1/5] END ......C=1, gamma=0.001, kernel=rbf;, score=0.413 total time=  26.4s\n",
      "[CV 2/5] END ......C=1, gamma=0.001, kernel=rbf;, score=0.412 total time=  26.0s\n",
      "[CV 3/5] END ......C=1, gamma=0.001, kernel=rbf;, score=0.418 total time=  26.0s\n",
      "[CV 4/5] END ......C=1, gamma=0.001, kernel=rbf;, score=0.423 total time=  26.2s\n",
      "[CV 5/5] END ......C=1, gamma=0.001, kernel=rbf;, score=0.406 total time=  26.1s\n",
      "[CV 1/5] END .....C=1, gamma=0.0001, kernel=rbf;, score=0.416 total time=  27.7s\n",
      "[CV 2/5] END .....C=1, gamma=0.0001, kernel=rbf;, score=0.424 total time=  27.6s\n",
      "[CV 3/5] END .....C=1, gamma=0.0001, kernel=rbf;, score=0.423 total time=  27.3s\n",
      "[CV 4/5] END .....C=1, gamma=0.0001, kernel=rbf;, score=0.418 total time=  26.6s\n",
      "[CV 5/5] END .....C=1, gamma=0.0001, kernel=rbf;, score=0.415 total time=  26.9s\n",
      "[CV 1/5] END .........C=10, gamma=1, kernel=rbf;, score=0.465 total time= 2.2min\n",
      "[CV 2/5] END .........C=10, gamma=1, kernel=rbf;, score=0.450 total time= 2.2min\n",
      "[CV 3/5] END .........C=10, gamma=1, kernel=rbf;, score=0.459 total time= 2.2min\n",
      "[CV 4/5] END .........C=10, gamma=1, kernel=rbf;, score=0.459 total time= 2.2min\n",
      "[CV 5/5] END .........C=10, gamma=1, kernel=rbf;, score=0.449 total time= 2.2min\n",
      "[CV 1/5] END .......C=10, gamma=0.1, kernel=rbf;, score=0.714 total time= 2.6min\n",
      "[CV 2/5] END .......C=10, gamma=0.1, kernel=rbf;, score=0.721 total time= 2.6min\n",
      "[CV 3/5] END .......C=10, gamma=0.1, kernel=rbf;, score=0.706 total time= 2.6min\n",
      "[CV 4/5] END .......C=10, gamma=0.1, kernel=rbf;, score=0.707 total time= 2.6min\n",
      "[CV 5/5] END .......C=10, gamma=0.1, kernel=rbf;, score=0.696 total time= 2.4min\n",
      "[CV 1/5] END ......C=10, gamma=0.01, kernel=rbf;, score=0.707 total time=  47.9s\n",
      "[CV 2/5] END ......C=10, gamma=0.01, kernel=rbf;, score=0.721 total time=  48.4s\n",
      "[CV 3/5] END ......C=10, gamma=0.01, kernel=rbf;, score=0.708 total time=  56.0s\n",
      "[CV 4/5] END ......C=10, gamma=0.01, kernel=rbf;, score=0.700 total time=  54.4s\n",
      "[CV 5/5] END ......C=10, gamma=0.01, kernel=rbf;, score=0.700 total time=  54.7s\n",
      "[CV 1/5] END .....C=10, gamma=0.001, kernel=rbf;, score=0.651 total time=  28.6s\n",
      "[CV 2/5] END .....C=10, gamma=0.001, kernel=rbf;, score=0.660 total time=  28.5s\n",
      "[CV 3/5] END .....C=10, gamma=0.001, kernel=rbf;, score=0.648 total time=  28.0s\n",
      "[CV 4/5] END .....C=10, gamma=0.001, kernel=rbf;, score=0.646 total time=  28.0s\n",
      "[CV 5/5] END .....C=10, gamma=0.001, kernel=rbf;, score=0.645 total time=  27.7s\n",
      "[CV 1/5] END ....C=10, gamma=0.0001, kernel=rbf;, score=0.482 total time=  27.5s\n",
      "[CV 2/5] END ....C=10, gamma=0.0001, kernel=rbf;, score=0.490 total time=  27.4s\n",
      "[CV 3/5] END ....C=10, gamma=0.0001, kernel=rbf;, score=0.494 total time=  26.7s\n",
      "[CV 4/5] END ....C=10, gamma=0.0001, kernel=rbf;, score=0.494 total time=  26.5s\n",
      "[CV 5/5] END ....C=10, gamma=0.0001, kernel=rbf;, score=0.478 total time=  26.8s\n",
      "[CV 1/5] END ........C=100, gamma=1, kernel=rbf;, score=0.465 total time= 2.2min\n",
      "[CV 2/5] END ........C=100, gamma=1, kernel=rbf;, score=0.450 total time= 2.2min\n",
      "[CV 3/5] END ........C=100, gamma=1, kernel=rbf;, score=0.459 total time= 2.2min\n",
      "[CV 4/5] END ........C=100, gamma=1, kernel=rbf;, score=0.459 total time= 2.2min\n",
      "[CV 5/5] END ........C=100, gamma=1, kernel=rbf;, score=0.449 total time= 2.2min\n",
      "[CV 1/5] END ......C=100, gamma=0.1, kernel=rbf;, score=0.711 total time= 2.7min\n",
      "[CV 2/5] END ......C=100, gamma=0.1, kernel=rbf;, score=0.718 total time= 2.8min\n",
      "[CV 3/5] END ......C=100, gamma=0.1, kernel=rbf;, score=0.714 total time= 2.7min\n",
      "[CV 4/5] END ......C=100, gamma=0.1, kernel=rbf;, score=0.702 total time= 2.6min\n",
      "[CV 5/5] END ......C=100, gamma=0.1, kernel=rbf;, score=0.702 total time= 2.7min\n",
      "[CV 1/5] END .....C=100, gamma=0.01, kernel=rbf;, score=0.753 total time= 2.0min\n",
      "[CV 2/5] END .....C=100, gamma=0.01, kernel=rbf;, score=0.757 total time= 2.0min\n",
      "[CV 3/5] END .....C=100, gamma=0.01, kernel=rbf;, score=0.743 total time= 2.1min\n",
      "[CV 4/5] END .....C=100, gamma=0.01, kernel=rbf;, score=0.737 total time= 2.2min\n",
      "[CV 5/5] END .....C=100, gamma=0.01, kernel=rbf;, score=0.737 total time= 2.0min\n",
      "[CV 1/5] END ....C=100, gamma=0.001, kernel=rbf;, score=0.713 total time=  51.2s\n",
      "[CV 2/5] END ....C=100, gamma=0.001, kernel=rbf;, score=0.729 total time=  50.1s\n",
      "[CV 3/5] END ....C=100, gamma=0.001, kernel=rbf;, score=0.728 total time=  48.5s\n",
      "[CV 4/5] END ....C=100, gamma=0.001, kernel=rbf;, score=0.711 total time=  49.6s\n",
      "[CV 5/5] END ....C=100, gamma=0.001, kernel=rbf;, score=0.715 total time=  50.7s\n",
      "[CV 1/5] END ...C=100, gamma=0.0001, kernel=rbf;, score=0.661 total time=  34.3s\n",
      "[CV 2/5] END ...C=100, gamma=0.0001, kernel=rbf;, score=0.683 total time=  35.2s\n",
      "[CV 3/5] END ...C=100, gamma=0.0001, kernel=rbf;, score=0.670 total time=  35.0s\n",
      "[CV 4/5] END ...C=100, gamma=0.0001, kernel=rbf;, score=0.669 total time=  33.4s\n",
      "[CV 5/5] END ...C=100, gamma=0.0001, kernel=rbf;, score=0.676 total time=  34.2s\n",
      "[CV 1/5] END .......C=1000, gamma=1, kernel=rbf;, score=0.465 total time= 2.2min\n",
      "[CV 2/5] END .......C=1000, gamma=1, kernel=rbf;, score=0.450 total time= 2.2min\n",
      "[CV 3/5] END .......C=1000, gamma=1, kernel=rbf;, score=0.459 total time= 2.2min\n",
      "[CV 4/5] END .......C=1000, gamma=1, kernel=rbf;, score=0.459 total time= 2.2min\n",
      "[CV 5/5] END .......C=1000, gamma=1, kernel=rbf;, score=0.449 total time= 2.2min\n",
      "[CV 1/5] END .....C=1000, gamma=0.1, kernel=rbf;, score=0.709 total time= 2.6min\n",
      "[CV 2/5] END .....C=1000, gamma=0.1, kernel=rbf;, score=0.715 total time= 3.0min\n",
      "[CV 3/5] END .....C=1000, gamma=0.1, kernel=rbf;, score=0.713 total time= 2.7min\n",
      "[CV 4/5] END .....C=1000, gamma=0.1, kernel=rbf;, score=0.699 total time= 2.6min\n",
      "[CV 5/5] END .....C=1000, gamma=0.1, kernel=rbf;, score=0.697 total time= 2.9min\n",
      "[CV 1/5] END ....C=1000, gamma=0.01, kernel=rbf;, score=0.749 total time= 7.1min\n",
      "[CV 2/5] END ....C=1000, gamma=0.01, kernel=rbf;, score=0.753 total time= 6.8min\n",
      "[CV 3/5] END ....C=1000, gamma=0.01, kernel=rbf;, score=0.748 total time= 6.6min\n",
      "[CV 4/5] END ....C=1000, gamma=0.01, kernel=rbf;, score=0.742 total time= 6.5min\n",
      "[CV 5/5] END ....C=1000, gamma=0.01, kernel=rbf;, score=0.738 total time= 6.8min\n",
      "[CV 1/5] END ...C=1000, gamma=0.001, kernel=rbf;, score=0.730 total time= 4.1min\n",
      "[CV 2/5] END ...C=1000, gamma=0.001, kernel=rbf;, score=0.753 total time= 4.3min\n",
      "[CV 3/5] END ...C=1000, gamma=0.001, kernel=rbf;, score=0.739 total time= 4.2min\n",
      "[CV 4/5] END ...C=1000, gamma=0.001, kernel=rbf;, score=0.740 total time= 3.8min\n",
      "[CV 5/5] END ...C=1000, gamma=0.001, kernel=rbf;, score=0.728 total time= 4.2min\n",
      "[CV 1/5] END ..C=1000, gamma=0.0001, kernel=rbf;, score=0.666 total time= 1.3min\n",
      "[CV 2/5] END ..C=1000, gamma=0.0001, kernel=rbf;, score=0.688 total time= 1.4min\n",
      "[CV 3/5] END ..C=1000, gamma=0.0001, kernel=rbf;, score=0.681 total time= 1.4min\n",
      "[CV 4/5] END ..C=1000, gamma=0.0001, kernel=rbf;, score=0.678 total time= 1.4min\n",
      "[CV 5/5] END ..C=1000, gamma=0.0001, kernel=rbf;, score=0.677 total time= 1.4min\n"
     ]
    },
    {
     "data": {
      "text/plain": [
       "GridSearchCV(estimator=SVC(),\n",
       "             param_grid={'C': [0.1, 1, 10, 100, 1000],\n",
       "                         'gamma': [1, 0.1, 0.01, 0.001, 0.0001],\n",
       "                         'kernel': ['rbf']},\n",
       "             scoring='recall', verbose=3)"
      ]
     },
     "execution_count": 45,
     "metadata": {},
     "output_type": "execute_result"
    }
   ],
   "source": [
    "grid.fit(X_train,y_train)"
   ]
  },
  {
   "cell_type": "code",
   "execution_count": 46,
   "metadata": {
    "execution": {
     "iopub.execute_input": "2023-01-31T17:58:22.760527Z",
     "iopub.status.busy": "2023-01-31T17:58:22.760070Z",
     "iopub.status.idle": "2023-01-31T17:58:22.768317Z",
     "shell.execute_reply": "2023-01-31T17:58:22.767448Z",
     "shell.execute_reply.started": "2023-01-31T17:58:22.760490Z"
    }
   },
   "outputs": [
    {
     "data": {
      "text/plain": [
       "{'C': 1000, 'gamma': 0.01, 'kernel': 'rbf'}"
      ]
     },
     "execution_count": 46,
     "metadata": {},
     "output_type": "execute_result"
    }
   ],
   "source": [
    "grid.best_params_"
   ]
  },
  {
   "cell_type": "code",
   "execution_count": 47,
   "metadata": {
    "execution": {
     "iopub.execute_input": "2023-01-31T17:58:26.957824Z",
     "iopub.status.busy": "2023-01-31T17:58:26.956662Z",
     "iopub.status.idle": "2023-01-31T17:58:26.966212Z",
     "shell.execute_reply": "2023-01-31T17:58:26.965104Z",
     "shell.execute_reply.started": "2023-01-31T17:58:26.957772Z"
    }
   },
   "outputs": [
    {
     "data": {
      "text/plain": [
       "SVC(C=1000, gamma=0.01)"
      ]
     },
     "execution_count": 47,
     "metadata": {},
     "output_type": "execute_result"
    }
   ],
   "source": [
    "grid.best_estimator_"
   ]
  },
  {
   "cell_type": "code",
   "execution_count": 48,
   "metadata": {
    "execution": {
     "iopub.execute_input": "2023-01-31T17:58:32.672074Z",
     "iopub.status.busy": "2023-01-31T17:58:32.671699Z",
     "iopub.status.idle": "2023-01-31T17:58:38.572141Z",
     "shell.execute_reply": "2023-01-31T17:58:38.571104Z",
     "shell.execute_reply.started": "2023-01-31T17:58:32.672045Z"
    }
   },
   "outputs": [],
   "source": [
    "grid_predictions = grid.predict(X_test)"
   ]
  },
  {
   "cell_type": "code",
   "execution_count": 49,
   "metadata": {
    "execution": {
     "iopub.execute_input": "2023-01-31T17:59:05.047933Z",
     "iopub.status.busy": "2023-01-31T17:59:05.047551Z",
     "iopub.status.idle": "2023-01-31T17:59:05.072096Z",
     "shell.execute_reply": "2023-01-31T17:59:05.070606Z",
     "shell.execute_reply.started": "2023-01-31T17:59:05.047904Z"
    }
   },
   "outputs": [
    {
     "name": "stdout",
     "output_type": "stream",
     "text": [
      "Accuracy Score : 0.8476912474155754\n",
      "Precision Score : 0.7785805354866129\n",
      "Recall Score : 0.7582781456953642\n",
      "F1 Score : 0.7682952400922626\n",
      "Confusion Matrix : \n",
      "[[4318  521]\n",
      " [ 584 1832]]\n"
     ]
    }
   ],
   "source": [
    "print('Accuracy Score : ' + str(accuracy_score(y_test,grid_predictions)))\n",
    "print('Precision Score : ' + str(precision_score(y_test,grid_predictions)))\n",
    "print('Recall Score : ' + str(recall_score(y_test,grid_predictions)))\n",
    "print('F1 Score : ' + str(f1_score(y_test,grid_predictions)))\n",
    "\n",
    "#SVM Classifier Confusion matrix\n",
    "from sklearn.metrics import confusion_matrix\n",
    "print('Confusion Matrix : \\n' + str(confusion_matrix(y_test,grid_predictions)))"
   ]
  },
  {
   "cell_type": "code",
   "execution_count": 14,
   "metadata": {
    "execution": {
     "iopub.execute_input": "2023-01-31T20:03:12.188570Z",
     "iopub.status.busy": "2023-01-31T20:03:12.187686Z",
     "iopub.status.idle": "2023-01-31T20:03:12.192865Z",
     "shell.execute_reply": "2023-01-31T20:03:12.192031Z",
     "shell.execute_reply.started": "2023-01-31T20:03:12.188533Z"
    }
   },
   "outputs": [],
   "source": [
    "model = SVC(C= 1000, gamma= 0.01, kernel= 'rbf', random_state=42)"
   ]
  },
  {
   "cell_type": "code",
   "execution_count": 15,
   "metadata": {
    "execution": {
     "iopub.execute_input": "2023-01-31T20:03:15.363761Z",
     "iopub.status.busy": "2023-01-31T20:03:15.363108Z",
     "iopub.status.idle": "2023-01-31T20:03:15.369701Z",
     "shell.execute_reply": "2023-01-31T20:03:15.368592Z",
     "shell.execute_reply.started": "2023-01-31T20:03:15.363713Z"
    }
   },
   "outputs": [],
   "source": [
    "cat= ['type_of_meal_plan','room_type_reserved','market_segment_type']\n",
    "num = ['no_of_children',\n",
    " 'lead_time',\n",
    "\n",
    " 'no_of_previous_cancellations',\n",
    " 'no_of_adults',\n",
    " 'no_of_weekend_nights',\n",
    " 'no_of_week_nights',\n",
    " 'no_of_special_requests',\n",
    " 'repeated_guest',\n",
    " 'avg_price_per_room']"
   ]
  },
  {
   "cell_type": "code",
   "execution_count": 19,
   "metadata": {
    "execution": {
     "iopub.execute_input": "2023-01-31T20:04:10.558744Z",
     "iopub.status.busy": "2023-01-31T20:04:10.558353Z",
     "iopub.status.idle": "2023-01-31T20:04:11.631828Z",
     "shell.execute_reply": "2023-01-31T20:04:11.630498Z",
     "shell.execute_reply.started": "2023-01-31T20:04:10.558712Z"
    }
   },
   "outputs": [],
   "source": [
    "dv = DictVectorizer(sparse=False)\n",
    "\n",
    "train_dict = df_train[cat + num].to_dict(orient='records')\n",
    "X_train = dv.fit_transform(train_dict)\n",
    "\n",
    "test_dict = df_test[cat + num].to_dict(orient='records')\n",
    "X_test = dv.transform(test_dict)"
   ]
  },
  {
   "cell_type": "code",
   "execution_count": 109,
   "metadata": {
    "execution": {
     "iopub.execute_input": "2023-01-31T19:12:46.698657Z",
     "iopub.status.busy": "2023-01-31T19:12:46.697949Z",
     "iopub.status.idle": "2023-01-31T19:12:46.716079Z",
     "shell.execute_reply": "2023-01-31T19:12:46.714762Z",
     "shell.execute_reply.started": "2023-01-31T19:12:46.698620Z"
    }
   },
   "outputs": [],
   "source": [
    "sc_x =StandardScaler()\n",
    "X_train_sc = sc_x.fit_transform(X_train)\n",
    "X_test_sc = sc_x.transform(X_test)"
   ]
  },
  {
   "cell_type": "code",
   "execution_count": 20,
   "metadata": {
    "execution": {
     "iopub.execute_input": "2023-01-31T20:04:18.554746Z",
     "iopub.status.busy": "2023-01-31T20:04:18.554319Z",
     "iopub.status.idle": "2023-01-31T20:17:38.200506Z",
     "shell.execute_reply": "2023-01-31T20:17:38.199422Z",
     "shell.execute_reply.started": "2023-01-31T20:04:18.554708Z"
    }
   },
   "outputs": [
    {
     "name": "stdout",
     "output_type": "stream",
     "text": [
      "Accuracy Score : 0.8463128876636802\n",
      "Precision Score : 0.7773987206823028\n",
      "Recall Score : 0.7545529801324503\n",
      "F1 Score : 0.7658055030455786\n",
      "Confusion Matrix : \n",
      "[[4317  522]\n",
      " [ 593 1823]]\n"
     ]
    }
   ],
   "source": [
    "model.fit(X_train,y_train)\n",
    "y_pred = model.predict(X_test)\n",
    "\n",
    "from sklearn.metrics import accuracy_score,recall_score,precision_score,f1_score\n",
    "print('Accuracy Score : ' + str(accuracy_score(y_test,y_pred)))\n",
    "print('Precision Score : ' + str(precision_score(y_test,y_pred)))\n",
    "print('Recall Score : ' + str(recall_score(y_test,y_pred)))\n",
    "print('F1 Score : ' + str(f1_score(y_test,y_pred)))\n",
    "\n",
    "#SVM Classifier Confusion matrix\n",
    "from sklearn.metrics import confusion_matrix\n",
    "print('Confusion Matrix : \\n' + str(confusion_matrix(y_test,y_pred)))"
   ]
  },
  {
   "cell_type": "code",
   "execution_count": null,
   "metadata": {},
   "outputs": [],
   "source": []
  }
 ],
 "metadata": {
  "kernelspec": {
   "display_name": "Python 3 (ipykernel)",
   "language": "python",
   "name": "python3"
  },
  "language_info": {
   "codemirror_mode": {
    "name": "ipython",
    "version": 3
   },
   "file_extension": ".py",
   "mimetype": "text/x-python",
   "name": "python",
   "nbconvert_exporter": "python",
   "pygments_lexer": "ipython3",
   "version": "3.10.9"
  }
 },
 "nbformat": 4,
 "nbformat_minor": 4
}
